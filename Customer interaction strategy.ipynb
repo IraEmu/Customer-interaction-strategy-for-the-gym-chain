{
 "cells": [
  {
   "cell_type": "markdown",
   "metadata": {},
   "source": [
    "# Customer interaction strategy for the gym chain"
   ]
  },
  {
   "cell_type": "markdown",
   "metadata": {},
   "source": [
    "# Description"
   ]
  },
  {
   "cell_type": "markdown",
   "metadata": {},
   "source": [
    "The goal of this project is to support decision making for the gym chain Model Fitness for developing a customer interaction strategy based on analytical data. Model Fitness has digitized a number of its customer profiles. Task is to analyze profiles and come up with a customer retention strategy aiming to fight churn.\n",
    "\n",
    "Project goals and tasks:\n",
    "\n",
    "* \t\tdata assesment\n",
    "* \t\tpredict the probability of churn (for the upcoming month) for each customer\n",
    "* \t\tDraw up typical user portraits: select the most outstanding groups and describe their main features\n",
    "* \t\tAnalyze the factors that impact churn most\n",
    "* \t\tDraw basic conclusions and develop recommendations on how to improve customer service:\n",
    "    * \t\tIdentify target groups\n",
    "    * \t\tSuggest measures to cut churn\n",
    "    * \t\tDescribe any other patterns you see with respect to interaction with customers\n"
   ]
  },
  {
   "cell_type": "markdown",
   "metadata": {},
   "source": [
    "## Data preparation"
   ]
  },
  {
   "cell_type": "code",
   "execution_count": 1,
   "metadata": {},
   "outputs": [],
   "source": [
    "import pandas as pd"
   ]
  },
  {
   "cell_type": "code",
   "execution_count": 2,
   "metadata": {},
   "outputs": [],
   "source": [
    "import seaborn as sns\n",
    "from sklearn.preprocessing import StandardScaler\n",
    "from sklearn.model_selection import train_test_split\n",
    "from sklearn.linear_model import Lasso, Ridge\n",
    "from sklearn.tree import DecisionTreeRegressor\n",
    "from sklearn.ensemble import RandomForestRegressor, GradientBoostingRegressor\n",
    "import matplotlib.pyplot as plt\n",
    "from sklearn.metrics import mean_absolute_error, mean_squared_error, r2_score"
   ]
  },
  {
   "cell_type": "code",
   "execution_count": 3,
   "metadata": {},
   "outputs": [],
   "source": [
    "from sklearn.linear_model import LogisticRegression\n",
    "from sklearn.ensemble import RandomForestClassifier, GradientBoostingClassifier\n",
    "from sklearn.metrics import classification_report, accuracy_score, precision_score, recall_score\n",
    "from scipy.cluster.hierarchy import dendrogram, linkage\n",
    "from sklearn.cluster import KMeans\n",
    "from scipy import stats"
   ]
  },
  {
   "cell_type": "code",
   "execution_count": 4,
   "metadata": {},
   "outputs": [],
   "source": [
    "import matplotlib.pyplot as plt"
   ]
  },
  {
   "cell_type": "code",
   "execution_count": 6,
   "metadata": {},
   "outputs": [],
   "source": [
    "df = pd.read_csv('gym_churn_us.csv')"
   ]
  },
  {
   "cell_type": "code",
   "execution_count": 7,
   "metadata": {},
   "outputs": [
    {
     "data": {
      "text/html": [
       "<div>\n",
       "<style scoped>\n",
       "    .dataframe tbody tr th:only-of-type {\n",
       "        vertical-align: middle;\n",
       "    }\n",
       "\n",
       "    .dataframe tbody tr th {\n",
       "        vertical-align: top;\n",
       "    }\n",
       "\n",
       "    .dataframe thead th {\n",
       "        text-align: right;\n",
       "    }\n",
       "</style>\n",
       "<table border=\"1\" class=\"dataframe\">\n",
       "  <thead>\n",
       "    <tr style=\"text-align: right;\">\n",
       "      <th></th>\n",
       "      <th>gender</th>\n",
       "      <th>Near_Location</th>\n",
       "      <th>Partner</th>\n",
       "      <th>Promo_friends</th>\n",
       "      <th>Phone</th>\n",
       "      <th>Contract_period</th>\n",
       "      <th>Group_visits</th>\n",
       "      <th>Age</th>\n",
       "      <th>Avg_additional_charges_total</th>\n",
       "      <th>Month_to_end_contract</th>\n",
       "      <th>Lifetime</th>\n",
       "      <th>Avg_class_frequency_total</th>\n",
       "      <th>Avg_class_frequency_current_month</th>\n",
       "      <th>Churn</th>\n",
       "    </tr>\n",
       "  </thead>\n",
       "  <tbody>\n",
       "    <tr>\n",
       "      <th>0</th>\n",
       "      <td>1</td>\n",
       "      <td>1</td>\n",
       "      <td>1</td>\n",
       "      <td>1</td>\n",
       "      <td>0</td>\n",
       "      <td>6</td>\n",
       "      <td>1</td>\n",
       "      <td>29</td>\n",
       "      <td>14.227470</td>\n",
       "      <td>5.0</td>\n",
       "      <td>3</td>\n",
       "      <td>0.020398</td>\n",
       "      <td>0.000000</td>\n",
       "      <td>0</td>\n",
       "    </tr>\n",
       "    <tr>\n",
       "      <th>1</th>\n",
       "      <td>0</td>\n",
       "      <td>1</td>\n",
       "      <td>0</td>\n",
       "      <td>0</td>\n",
       "      <td>1</td>\n",
       "      <td>12</td>\n",
       "      <td>1</td>\n",
       "      <td>31</td>\n",
       "      <td>113.202938</td>\n",
       "      <td>12.0</td>\n",
       "      <td>7</td>\n",
       "      <td>1.922936</td>\n",
       "      <td>1.910244</td>\n",
       "      <td>0</td>\n",
       "    </tr>\n",
       "    <tr>\n",
       "      <th>2</th>\n",
       "      <td>0</td>\n",
       "      <td>1</td>\n",
       "      <td>1</td>\n",
       "      <td>0</td>\n",
       "      <td>1</td>\n",
       "      <td>1</td>\n",
       "      <td>0</td>\n",
       "      <td>28</td>\n",
       "      <td>129.448479</td>\n",
       "      <td>1.0</td>\n",
       "      <td>2</td>\n",
       "      <td>1.859098</td>\n",
       "      <td>1.736502</td>\n",
       "      <td>0</td>\n",
       "    </tr>\n",
       "    <tr>\n",
       "      <th>3</th>\n",
       "      <td>0</td>\n",
       "      <td>1</td>\n",
       "      <td>1</td>\n",
       "      <td>1</td>\n",
       "      <td>1</td>\n",
       "      <td>12</td>\n",
       "      <td>1</td>\n",
       "      <td>33</td>\n",
       "      <td>62.669863</td>\n",
       "      <td>12.0</td>\n",
       "      <td>2</td>\n",
       "      <td>3.205633</td>\n",
       "      <td>3.357215</td>\n",
       "      <td>0</td>\n",
       "    </tr>\n",
       "    <tr>\n",
       "      <th>4</th>\n",
       "      <td>1</td>\n",
       "      <td>1</td>\n",
       "      <td>1</td>\n",
       "      <td>1</td>\n",
       "      <td>1</td>\n",
       "      <td>1</td>\n",
       "      <td>0</td>\n",
       "      <td>26</td>\n",
       "      <td>198.362265</td>\n",
       "      <td>1.0</td>\n",
       "      <td>3</td>\n",
       "      <td>1.113884</td>\n",
       "      <td>1.120078</td>\n",
       "      <td>0</td>\n",
       "    </tr>\n",
       "    <tr>\n",
       "      <th>...</th>\n",
       "      <td>...</td>\n",
       "      <td>...</td>\n",
       "      <td>...</td>\n",
       "      <td>...</td>\n",
       "      <td>...</td>\n",
       "      <td>...</td>\n",
       "      <td>...</td>\n",
       "      <td>...</td>\n",
       "      <td>...</td>\n",
       "      <td>...</td>\n",
       "      <td>...</td>\n",
       "      <td>...</td>\n",
       "      <td>...</td>\n",
       "      <td>...</td>\n",
       "    </tr>\n",
       "    <tr>\n",
       "      <th>3995</th>\n",
       "      <td>1</td>\n",
       "      <td>1</td>\n",
       "      <td>1</td>\n",
       "      <td>0</td>\n",
       "      <td>1</td>\n",
       "      <td>12</td>\n",
       "      <td>0</td>\n",
       "      <td>33</td>\n",
       "      <td>2.406023</td>\n",
       "      <td>12.0</td>\n",
       "      <td>8</td>\n",
       "      <td>2.284497</td>\n",
       "      <td>2.349070</td>\n",
       "      <td>0</td>\n",
       "    </tr>\n",
       "    <tr>\n",
       "      <th>3996</th>\n",
       "      <td>0</td>\n",
       "      <td>1</td>\n",
       "      <td>0</td>\n",
       "      <td>0</td>\n",
       "      <td>1</td>\n",
       "      <td>1</td>\n",
       "      <td>1</td>\n",
       "      <td>29</td>\n",
       "      <td>68.883764</td>\n",
       "      <td>1.0</td>\n",
       "      <td>1</td>\n",
       "      <td>1.277168</td>\n",
       "      <td>0.292859</td>\n",
       "      <td>1</td>\n",
       "    </tr>\n",
       "    <tr>\n",
       "      <th>3997</th>\n",
       "      <td>1</td>\n",
       "      <td>1</td>\n",
       "      <td>1</td>\n",
       "      <td>1</td>\n",
       "      <td>1</td>\n",
       "      <td>12</td>\n",
       "      <td>0</td>\n",
       "      <td>28</td>\n",
       "      <td>78.250542</td>\n",
       "      <td>11.0</td>\n",
       "      <td>2</td>\n",
       "      <td>2.786146</td>\n",
       "      <td>2.831439</td>\n",
       "      <td>0</td>\n",
       "    </tr>\n",
       "    <tr>\n",
       "      <th>3998</th>\n",
       "      <td>0</td>\n",
       "      <td>1</td>\n",
       "      <td>1</td>\n",
       "      <td>1</td>\n",
       "      <td>1</td>\n",
       "      <td>6</td>\n",
       "      <td>0</td>\n",
       "      <td>32</td>\n",
       "      <td>61.912657</td>\n",
       "      <td>5.0</td>\n",
       "      <td>3</td>\n",
       "      <td>1.630108</td>\n",
       "      <td>1.596237</td>\n",
       "      <td>0</td>\n",
       "    </tr>\n",
       "    <tr>\n",
       "      <th>3999</th>\n",
       "      <td>1</td>\n",
       "      <td>0</td>\n",
       "      <td>1</td>\n",
       "      <td>0</td>\n",
       "      <td>0</td>\n",
       "      <td>12</td>\n",
       "      <td>1</td>\n",
       "      <td>30</td>\n",
       "      <td>178.861814</td>\n",
       "      <td>12.0</td>\n",
       "      <td>1</td>\n",
       "      <td>1.101832</td>\n",
       "      <td>1.035270</td>\n",
       "      <td>0</td>\n",
       "    </tr>\n",
       "  </tbody>\n",
       "</table>\n",
       "<p>4000 rows × 14 columns</p>\n",
       "</div>"
      ],
      "text/plain": [
       "      gender  Near_Location  Partner  Promo_friends  Phone  Contract_period  \\\n",
       "0          1              1        1              1      0                6   \n",
       "1          0              1        0              0      1               12   \n",
       "2          0              1        1              0      1                1   \n",
       "3          0              1        1              1      1               12   \n",
       "4          1              1        1              1      1                1   \n",
       "...      ...            ...      ...            ...    ...              ...   \n",
       "3995       1              1        1              0      1               12   \n",
       "3996       0              1        0              0      1                1   \n",
       "3997       1              1        1              1      1               12   \n",
       "3998       0              1        1              1      1                6   \n",
       "3999       1              0        1              0      0               12   \n",
       "\n",
       "      Group_visits  Age  Avg_additional_charges_total  Month_to_end_contract  \\\n",
       "0                1   29                     14.227470                    5.0   \n",
       "1                1   31                    113.202938                   12.0   \n",
       "2                0   28                    129.448479                    1.0   \n",
       "3                1   33                     62.669863                   12.0   \n",
       "4                0   26                    198.362265                    1.0   \n",
       "...            ...  ...                           ...                    ...   \n",
       "3995             0   33                      2.406023                   12.0   \n",
       "3996             1   29                     68.883764                    1.0   \n",
       "3997             0   28                     78.250542                   11.0   \n",
       "3998             0   32                     61.912657                    5.0   \n",
       "3999             1   30                    178.861814                   12.0   \n",
       "\n",
       "      Lifetime  Avg_class_frequency_total  Avg_class_frequency_current_month  \\\n",
       "0            3                   0.020398                           0.000000   \n",
       "1            7                   1.922936                           1.910244   \n",
       "2            2                   1.859098                           1.736502   \n",
       "3            2                   3.205633                           3.357215   \n",
       "4            3                   1.113884                           1.120078   \n",
       "...        ...                        ...                                ...   \n",
       "3995         8                   2.284497                           2.349070   \n",
       "3996         1                   1.277168                           0.292859   \n",
       "3997         2                   2.786146                           2.831439   \n",
       "3998         3                   1.630108                           1.596237   \n",
       "3999         1                   1.101832                           1.035270   \n",
       "\n",
       "      Churn  \n",
       "0         0  \n",
       "1         0  \n",
       "2         0  \n",
       "3         0  \n",
       "4         0  \n",
       "...     ...  \n",
       "3995      0  \n",
       "3996      1  \n",
       "3997      0  \n",
       "3998      0  \n",
       "3999      0  \n",
       "\n",
       "[4000 rows x 14 columns]"
      ]
     },
     "execution_count": 7,
     "metadata": {},
     "output_type": "execute_result"
    }
   ],
   "source": [
    "df"
   ]
  },
  {
   "cell_type": "code",
   "execution_count": 8,
   "metadata": {},
   "outputs": [
    {
     "name": "stdout",
     "output_type": "stream",
     "text": [
      "<class 'pandas.core.frame.DataFrame'>\n",
      "RangeIndex: 4000 entries, 0 to 3999\n",
      "Data columns (total 14 columns):\n",
      " #   Column                             Non-Null Count  Dtype  \n",
      "---  ------                             --------------  -----  \n",
      " 0   gender                             4000 non-null   int64  \n",
      " 1   Near_Location                      4000 non-null   int64  \n",
      " 2   Partner                            4000 non-null   int64  \n",
      " 3   Promo_friends                      4000 non-null   int64  \n",
      " 4   Phone                              4000 non-null   int64  \n",
      " 5   Contract_period                    4000 non-null   int64  \n",
      " 6   Group_visits                       4000 non-null   int64  \n",
      " 7   Age                                4000 non-null   int64  \n",
      " 8   Avg_additional_charges_total       4000 non-null   float64\n",
      " 9   Month_to_end_contract              4000 non-null   float64\n",
      " 10  Lifetime                           4000 non-null   int64  \n",
      " 11  Avg_class_frequency_total          4000 non-null   float64\n",
      " 12  Avg_class_frequency_current_month  4000 non-null   float64\n",
      " 13  Churn                              4000 non-null   int64  \n",
      "dtypes: float64(4), int64(10)\n",
      "memory usage: 437.6 KB\n"
     ]
    }
   ],
   "source": [
    "df.info()"
   ]
  },
  {
   "cell_type": "code",
   "execution_count": 9,
   "metadata": {
    "scrolled": true
   },
   "outputs": [
    {
     "data": {
      "text/plain": [
       "0"
      ]
     },
     "execution_count": 9,
     "metadata": {},
     "output_type": "execute_result"
    }
   ],
   "source": [
    "df.duplicated().sum()"
   ]
  },
  {
   "cell_type": "markdown",
   "metadata": {},
   "source": [
    "Comment"
   ]
  },
  {
   "cell_type": "markdown",
   "metadata": {},
   "source": [
    "CSV files containing data on churn for a given month and information on the month preceding it. Has 14 columns and 4000 rows, no missing values or duplicates. All columns numerical int64 or float64."
   ]
  },
  {
   "cell_type": "markdown",
   "metadata": {},
   "source": [
    "## Exploratory data analysis (EDA)"
   ]
  },
  {
   "cell_type": "markdown",
   "metadata": {},
   "source": [
    "* \t\tLook at the dataset: does it contain any missing features? Study the mean values and standard deviation (use the describe() method).\n",
    "* \t\tLook at the mean feature values in two groups: for those who left (churn) and for those who stayed (use the groupby() method).\n",
    "* \t\tPlot bar histograms and feature distributions for those who left (churn) and those who stayed.\n",
    "* \t\tBuild a correlation matrix and display it."
   ]
  },
  {
   "cell_type": "markdown",
   "metadata": {},
   "source": [
    "### Look at the dataset: does it contain any missing features? Study the mean values and standard deviation (use the describe() method)."
   ]
  },
  {
   "cell_type": "code",
   "execution_count": 10,
   "metadata": {
    "scrolled": true
   },
   "outputs": [
    {
     "data": {
      "text/html": [
       "<div>\n",
       "<style scoped>\n",
       "    .dataframe tbody tr th:only-of-type {\n",
       "        vertical-align: middle;\n",
       "    }\n",
       "\n",
       "    .dataframe tbody tr th {\n",
       "        vertical-align: top;\n",
       "    }\n",
       "\n",
       "    .dataframe thead th {\n",
       "        text-align: right;\n",
       "    }\n",
       "</style>\n",
       "<table border=\"1\" class=\"dataframe\">\n",
       "  <thead>\n",
       "    <tr style=\"text-align: right;\">\n",
       "      <th></th>\n",
       "      <th>gender</th>\n",
       "      <th>Near_Location</th>\n",
       "      <th>Partner</th>\n",
       "      <th>Promo_friends</th>\n",
       "      <th>Phone</th>\n",
       "      <th>Contract_period</th>\n",
       "      <th>Group_visits</th>\n",
       "      <th>Age</th>\n",
       "      <th>Avg_additional_charges_total</th>\n",
       "      <th>Month_to_end_contract</th>\n",
       "      <th>Lifetime</th>\n",
       "      <th>Avg_class_frequency_total</th>\n",
       "      <th>Avg_class_frequency_current_month</th>\n",
       "      <th>Churn</th>\n",
       "    </tr>\n",
       "  </thead>\n",
       "  <tbody>\n",
       "    <tr>\n",
       "      <th>count</th>\n",
       "      <td>4000.000000</td>\n",
       "      <td>4000.000000</td>\n",
       "      <td>4000.000000</td>\n",
       "      <td>4000.000000</td>\n",
       "      <td>4000.000000</td>\n",
       "      <td>4000.000000</td>\n",
       "      <td>4000.000000</td>\n",
       "      <td>4000.000000</td>\n",
       "      <td>4000.000000</td>\n",
       "      <td>4000.000000</td>\n",
       "      <td>4000.000000</td>\n",
       "      <td>4000.000000</td>\n",
       "      <td>4000.000000</td>\n",
       "      <td>4000.000000</td>\n",
       "    </tr>\n",
       "    <tr>\n",
       "      <th>mean</th>\n",
       "      <td>0.510250</td>\n",
       "      <td>0.845250</td>\n",
       "      <td>0.486750</td>\n",
       "      <td>0.308500</td>\n",
       "      <td>0.903500</td>\n",
       "      <td>4.681250</td>\n",
       "      <td>0.412250</td>\n",
       "      <td>29.184250</td>\n",
       "      <td>146.943728</td>\n",
       "      <td>4.322750</td>\n",
       "      <td>3.724750</td>\n",
       "      <td>1.879020</td>\n",
       "      <td>1.767052</td>\n",
       "      <td>0.265250</td>\n",
       "    </tr>\n",
       "    <tr>\n",
       "      <th>std</th>\n",
       "      <td>0.499957</td>\n",
       "      <td>0.361711</td>\n",
       "      <td>0.499887</td>\n",
       "      <td>0.461932</td>\n",
       "      <td>0.295313</td>\n",
       "      <td>4.549706</td>\n",
       "      <td>0.492301</td>\n",
       "      <td>3.258367</td>\n",
       "      <td>96.355602</td>\n",
       "      <td>4.191297</td>\n",
       "      <td>3.749267</td>\n",
       "      <td>0.972245</td>\n",
       "      <td>1.052906</td>\n",
       "      <td>0.441521</td>\n",
       "    </tr>\n",
       "    <tr>\n",
       "      <th>min</th>\n",
       "      <td>0.000000</td>\n",
       "      <td>0.000000</td>\n",
       "      <td>0.000000</td>\n",
       "      <td>0.000000</td>\n",
       "      <td>0.000000</td>\n",
       "      <td>1.000000</td>\n",
       "      <td>0.000000</td>\n",
       "      <td>18.000000</td>\n",
       "      <td>0.148205</td>\n",
       "      <td>1.000000</td>\n",
       "      <td>0.000000</td>\n",
       "      <td>0.000000</td>\n",
       "      <td>0.000000</td>\n",
       "      <td>0.000000</td>\n",
       "    </tr>\n",
       "    <tr>\n",
       "      <th>25%</th>\n",
       "      <td>0.000000</td>\n",
       "      <td>1.000000</td>\n",
       "      <td>0.000000</td>\n",
       "      <td>0.000000</td>\n",
       "      <td>1.000000</td>\n",
       "      <td>1.000000</td>\n",
       "      <td>0.000000</td>\n",
       "      <td>27.000000</td>\n",
       "      <td>68.868830</td>\n",
       "      <td>1.000000</td>\n",
       "      <td>1.000000</td>\n",
       "      <td>1.180875</td>\n",
       "      <td>0.963003</td>\n",
       "      <td>0.000000</td>\n",
       "    </tr>\n",
       "    <tr>\n",
       "      <th>50%</th>\n",
       "      <td>1.000000</td>\n",
       "      <td>1.000000</td>\n",
       "      <td>0.000000</td>\n",
       "      <td>0.000000</td>\n",
       "      <td>1.000000</td>\n",
       "      <td>1.000000</td>\n",
       "      <td>0.000000</td>\n",
       "      <td>29.000000</td>\n",
       "      <td>136.220159</td>\n",
       "      <td>1.000000</td>\n",
       "      <td>3.000000</td>\n",
       "      <td>1.832768</td>\n",
       "      <td>1.719574</td>\n",
       "      <td>0.000000</td>\n",
       "    </tr>\n",
       "    <tr>\n",
       "      <th>75%</th>\n",
       "      <td>1.000000</td>\n",
       "      <td>1.000000</td>\n",
       "      <td>1.000000</td>\n",
       "      <td>1.000000</td>\n",
       "      <td>1.000000</td>\n",
       "      <td>6.000000</td>\n",
       "      <td>1.000000</td>\n",
       "      <td>31.000000</td>\n",
       "      <td>210.949625</td>\n",
       "      <td>6.000000</td>\n",
       "      <td>5.000000</td>\n",
       "      <td>2.536078</td>\n",
       "      <td>2.510336</td>\n",
       "      <td>1.000000</td>\n",
       "    </tr>\n",
       "    <tr>\n",
       "      <th>max</th>\n",
       "      <td>1.000000</td>\n",
       "      <td>1.000000</td>\n",
       "      <td>1.000000</td>\n",
       "      <td>1.000000</td>\n",
       "      <td>1.000000</td>\n",
       "      <td>12.000000</td>\n",
       "      <td>1.000000</td>\n",
       "      <td>41.000000</td>\n",
       "      <td>552.590740</td>\n",
       "      <td>12.000000</td>\n",
       "      <td>31.000000</td>\n",
       "      <td>6.023668</td>\n",
       "      <td>6.146783</td>\n",
       "      <td>1.000000</td>\n",
       "    </tr>\n",
       "  </tbody>\n",
       "</table>\n",
       "</div>"
      ],
      "text/plain": [
       "            gender  Near_Location      Partner  Promo_friends        Phone  \\\n",
       "count  4000.000000    4000.000000  4000.000000    4000.000000  4000.000000   \n",
       "mean      0.510250       0.845250     0.486750       0.308500     0.903500   \n",
       "std       0.499957       0.361711     0.499887       0.461932     0.295313   \n",
       "min       0.000000       0.000000     0.000000       0.000000     0.000000   \n",
       "25%       0.000000       1.000000     0.000000       0.000000     1.000000   \n",
       "50%       1.000000       1.000000     0.000000       0.000000     1.000000   \n",
       "75%       1.000000       1.000000     1.000000       1.000000     1.000000   \n",
       "max       1.000000       1.000000     1.000000       1.000000     1.000000   \n",
       "\n",
       "       Contract_period  Group_visits          Age  \\\n",
       "count      4000.000000   4000.000000  4000.000000   \n",
       "mean          4.681250      0.412250    29.184250   \n",
       "std           4.549706      0.492301     3.258367   \n",
       "min           1.000000      0.000000    18.000000   \n",
       "25%           1.000000      0.000000    27.000000   \n",
       "50%           1.000000      0.000000    29.000000   \n",
       "75%           6.000000      1.000000    31.000000   \n",
       "max          12.000000      1.000000    41.000000   \n",
       "\n",
       "       Avg_additional_charges_total  Month_to_end_contract     Lifetime  \\\n",
       "count                   4000.000000            4000.000000  4000.000000   \n",
       "mean                     146.943728               4.322750     3.724750   \n",
       "std                       96.355602               4.191297     3.749267   \n",
       "min                        0.148205               1.000000     0.000000   \n",
       "25%                       68.868830               1.000000     1.000000   \n",
       "50%                      136.220159               1.000000     3.000000   \n",
       "75%                      210.949625               6.000000     5.000000   \n",
       "max                      552.590740              12.000000    31.000000   \n",
       "\n",
       "       Avg_class_frequency_total  Avg_class_frequency_current_month  \\\n",
       "count                4000.000000                        4000.000000   \n",
       "mean                    1.879020                           1.767052   \n",
       "std                     0.972245                           1.052906   \n",
       "min                     0.000000                           0.000000   \n",
       "25%                     1.180875                           0.963003   \n",
       "50%                     1.832768                           1.719574   \n",
       "75%                     2.536078                           2.510336   \n",
       "max                     6.023668                           6.146783   \n",
       "\n",
       "             Churn  \n",
       "count  4000.000000  \n",
       "mean      0.265250  \n",
       "std       0.441521  \n",
       "min       0.000000  \n",
       "25%       0.000000  \n",
       "50%       0.000000  \n",
       "75%       1.000000  \n",
       "max       1.000000  "
      ]
     },
     "execution_count": 10,
     "metadata": {},
     "output_type": "execute_result"
    }
   ],
   "source": [
    "df.describe(include='all')"
   ]
  },
  {
   "cell_type": "markdown",
   "metadata": {},
   "source": [
    "Average Contract_period is 4,68 month with standard deviation 4,55. Additional charges on the average is around 147 with a standard deviation of around 96.4, maximum is 552,6. Churn mean is 0.26, meaning around 27% of customers churn. Average age is 29 years, standard deviation 3, age varies from 18 to 41. Average lifetime is almost 4 months, 31 months is a maximum."
   ]
  },
  {
   "cell_type": "code",
   "execution_count": 11,
   "metadata": {},
   "outputs": [
    {
     "data": {
      "text/html": [
       "<div>\n",
       "<style scoped>\n",
       "    .dataframe tbody tr th:only-of-type {\n",
       "        vertical-align: middle;\n",
       "    }\n",
       "\n",
       "    .dataframe tbody tr th {\n",
       "        vertical-align: top;\n",
       "    }\n",
       "\n",
       "    .dataframe thead th {\n",
       "        text-align: right;\n",
       "    }\n",
       "</style>\n",
       "<table border=\"1\" class=\"dataframe\">\n",
       "  <thead>\n",
       "    <tr style=\"text-align: right;\">\n",
       "      <th></th>\n",
       "      <th>gender</th>\n",
       "      <th>Near_Location</th>\n",
       "      <th>Partner</th>\n",
       "      <th>Promo_friends</th>\n",
       "      <th>Phone</th>\n",
       "      <th>Contract_period</th>\n",
       "      <th>Group_visits</th>\n",
       "      <th>Age</th>\n",
       "      <th>Avg_additional_charges_total</th>\n",
       "      <th>Month_to_end_contract</th>\n",
       "      <th>Lifetime</th>\n",
       "      <th>Avg_class_frequency_total</th>\n",
       "      <th>Avg_class_frequency_current_month</th>\n",
       "      <th>Churn</th>\n",
       "    </tr>\n",
       "  </thead>\n",
       "  <tbody>\n",
       "    <tr>\n",
       "      <th>0</th>\n",
       "      <td>1</td>\n",
       "      <td>1</td>\n",
       "      <td>1</td>\n",
       "      <td>1</td>\n",
       "      <td>0</td>\n",
       "      <td>6</td>\n",
       "      <td>1</td>\n",
       "      <td>29</td>\n",
       "      <td>14.227470</td>\n",
       "      <td>5.0</td>\n",
       "      <td>3</td>\n",
       "      <td>0.020398</td>\n",
       "      <td>0.000000</td>\n",
       "      <td>0</td>\n",
       "    </tr>\n",
       "    <tr>\n",
       "      <th>1</th>\n",
       "      <td>0</td>\n",
       "      <td>1</td>\n",
       "      <td>0</td>\n",
       "      <td>0</td>\n",
       "      <td>1</td>\n",
       "      <td>12</td>\n",
       "      <td>1</td>\n",
       "      <td>31</td>\n",
       "      <td>113.202938</td>\n",
       "      <td>12.0</td>\n",
       "      <td>7</td>\n",
       "      <td>1.922936</td>\n",
       "      <td>1.910244</td>\n",
       "      <td>0</td>\n",
       "    </tr>\n",
       "    <tr>\n",
       "      <th>2</th>\n",
       "      <td>0</td>\n",
       "      <td>1</td>\n",
       "      <td>1</td>\n",
       "      <td>0</td>\n",
       "      <td>1</td>\n",
       "      <td>1</td>\n",
       "      <td>0</td>\n",
       "      <td>28</td>\n",
       "      <td>129.448479</td>\n",
       "      <td>1.0</td>\n",
       "      <td>2</td>\n",
       "      <td>1.859098</td>\n",
       "      <td>1.736502</td>\n",
       "      <td>0</td>\n",
       "    </tr>\n",
       "  </tbody>\n",
       "</table>\n",
       "</div>"
      ],
      "text/plain": [
       "   gender  Near_Location  Partner  Promo_friends  Phone  Contract_period  \\\n",
       "0       1              1        1              1      0                6   \n",
       "1       0              1        0              0      1               12   \n",
       "2       0              1        1              0      1                1   \n",
       "\n",
       "   Group_visits  Age  Avg_additional_charges_total  Month_to_end_contract  \\\n",
       "0             1   29                     14.227470                    5.0   \n",
       "1             1   31                    113.202938                   12.0   \n",
       "2             0   28                    129.448479                    1.0   \n",
       "\n",
       "   Lifetime  Avg_class_frequency_total  Avg_class_frequency_current_month  \\\n",
       "0         3                   0.020398                           0.000000   \n",
       "1         7                   1.922936                           1.910244   \n",
       "2         2                   1.859098                           1.736502   \n",
       "\n",
       "   Churn  \n",
       "0      0  \n",
       "1      0  \n",
       "2      0  "
      ]
     },
     "execution_count": 11,
     "metadata": {},
     "output_type": "execute_result"
    }
   ],
   "source": [
    "df.head(3)"
   ]
  },
  {
   "cell_type": "markdown",
   "metadata": {},
   "source": [
    "### Look at the mean feature values in two groups: for those who left (churn) and for those who stayed (use the groupby() method)."
   ]
  },
  {
   "cell_type": "code",
   "execution_count": 12,
   "metadata": {
    "scrolled": true
   },
   "outputs": [
    {
     "data": {
      "text/html": [
       "<div>\n",
       "<style scoped>\n",
       "    .dataframe tbody tr th:only-of-type {\n",
       "        vertical-align: middle;\n",
       "    }\n",
       "\n",
       "    .dataframe tbody tr th {\n",
       "        vertical-align: top;\n",
       "    }\n",
       "\n",
       "    .dataframe thead th {\n",
       "        text-align: right;\n",
       "    }\n",
       "</style>\n",
       "<table border=\"1\" class=\"dataframe\">\n",
       "  <thead>\n",
       "    <tr style=\"text-align: right;\">\n",
       "      <th></th>\n",
       "      <th>Churn Proportions</th>\n",
       "    </tr>\n",
       "  </thead>\n",
       "  <tbody>\n",
       "    <tr>\n",
       "      <th>0</th>\n",
       "      <td>0.73</td>\n",
       "    </tr>\n",
       "    <tr>\n",
       "      <th>1</th>\n",
       "      <td>0.27</td>\n",
       "    </tr>\n",
       "  </tbody>\n",
       "</table>\n",
       "</div>"
      ],
      "text/plain": [
       "   Churn Proportions\n",
       "0               0.73\n",
       "1               0.27"
      ]
     },
     "execution_count": 12,
     "metadata": {},
     "output_type": "execute_result"
    }
   ],
   "source": [
    "(round(df[\"Churn\"].value_counts()/df.shape[0],2)).to_frame(\"Churn Proportions\")"
   ]
  },
  {
   "cell_type": "markdown",
   "metadata": {},
   "source": [
    "Around 27% of customers churn, and about 73% of customers stayed."
   ]
  },
  {
   "cell_type": "code",
   "execution_count": 13,
   "metadata": {
    "scrolled": true
   },
   "outputs": [],
   "source": [
    "df_mean = df.groupby(['Churn']).mean()"
   ]
  },
  {
   "cell_type": "code",
   "execution_count": 14,
   "metadata": {
    "scrolled": false
   },
   "outputs": [
    {
     "data": {
      "text/html": [
       "<div>\n",
       "<style scoped>\n",
       "    .dataframe tbody tr th:only-of-type {\n",
       "        vertical-align: middle;\n",
       "    }\n",
       "\n",
       "    .dataframe tbody tr th {\n",
       "        vertical-align: top;\n",
       "    }\n",
       "\n",
       "    .dataframe thead th {\n",
       "        text-align: right;\n",
       "    }\n",
       "</style>\n",
       "<table border=\"1\" class=\"dataframe\">\n",
       "  <thead>\n",
       "    <tr style=\"text-align: right;\">\n",
       "      <th></th>\n",
       "      <th>gender</th>\n",
       "      <th>Near_Location</th>\n",
       "      <th>Partner</th>\n",
       "      <th>Promo_friends</th>\n",
       "      <th>Phone</th>\n",
       "      <th>Contract_period</th>\n",
       "      <th>Group_visits</th>\n",
       "      <th>Age</th>\n",
       "      <th>Avg_additional_charges_total</th>\n",
       "      <th>Month_to_end_contract</th>\n",
       "      <th>Lifetime</th>\n",
       "      <th>Avg_class_frequency_total</th>\n",
       "      <th>Avg_class_frequency_current_month</th>\n",
       "    </tr>\n",
       "    <tr>\n",
       "      <th>Churn</th>\n",
       "      <th></th>\n",
       "      <th></th>\n",
       "      <th></th>\n",
       "      <th></th>\n",
       "      <th></th>\n",
       "      <th></th>\n",
       "      <th></th>\n",
       "      <th></th>\n",
       "      <th></th>\n",
       "      <th></th>\n",
       "      <th></th>\n",
       "      <th></th>\n",
       "      <th></th>\n",
       "    </tr>\n",
       "  </thead>\n",
       "  <tbody>\n",
       "    <tr>\n",
       "      <th>0</th>\n",
       "      <td>0.510037</td>\n",
       "      <td>0.873086</td>\n",
       "      <td>0.534195</td>\n",
       "      <td>0.353522</td>\n",
       "      <td>0.903709</td>\n",
       "      <td>5.747193</td>\n",
       "      <td>0.464103</td>\n",
       "      <td>29.976523</td>\n",
       "      <td>158.445715</td>\n",
       "      <td>5.283089</td>\n",
       "      <td>4.711807</td>\n",
       "      <td>2.024876</td>\n",
       "      <td>2.027882</td>\n",
       "    </tr>\n",
       "    <tr>\n",
       "      <th>1</th>\n",
       "      <td>0.510839</td>\n",
       "      <td>0.768143</td>\n",
       "      <td>0.355325</td>\n",
       "      <td>0.183789</td>\n",
       "      <td>0.902922</td>\n",
       "      <td>1.728558</td>\n",
       "      <td>0.268615</td>\n",
       "      <td>26.989632</td>\n",
       "      <td>115.082899</td>\n",
       "      <td>1.662582</td>\n",
       "      <td>0.990575</td>\n",
       "      <td>1.474995</td>\n",
       "      <td>1.044546</td>\n",
       "    </tr>\n",
       "  </tbody>\n",
       "</table>\n",
       "</div>"
      ],
      "text/plain": [
       "         gender  Near_Location   Partner  Promo_friends     Phone  \\\n",
       "Churn                                                               \n",
       "0      0.510037       0.873086  0.534195       0.353522  0.903709   \n",
       "1      0.510839       0.768143  0.355325       0.183789  0.902922   \n",
       "\n",
       "       Contract_period  Group_visits        Age  Avg_additional_charges_total  \\\n",
       "Churn                                                                           \n",
       "0             5.747193      0.464103  29.976523                    158.445715   \n",
       "1             1.728558      0.268615  26.989632                    115.082899   \n",
       "\n",
       "       Month_to_end_contract  Lifetime  Avg_class_frequency_total  \\\n",
       "Churn                                                               \n",
       "0                   5.283089  4.711807                   2.024876   \n",
       "1                   1.662582  0.990575                   1.474995   \n",
       "\n",
       "       Avg_class_frequency_current_month  \n",
       "Churn                                     \n",
       "0                               2.027882  \n",
       "1                               1.044546  "
      ]
     },
     "execution_count": 14,
     "metadata": {},
     "output_type": "execute_result"
    }
   ],
   "source": [
    "df_mean"
   ]
  },
  {
   "cell_type": "markdown",
   "metadata": {},
   "source": [
    "Gender has equal means for churn and non-churn, same for users provided their phone number. \n",
    "The mean age of churn customers is almost 27 while the mean age of non-churn customers is almost 30 years. Younger people are more likely to leave a gym than older people. The average lifetime of non-churn customers is 4,7 months and churn customers is 1 month. Non-churn customers has a higher average additional charges in total than churn customers (158 and 115 accordingly). Customers, who are employees of a partner company or customers, who originally signed up through a \"bring a friend\" offer, are also tend to stay more, than who joined without additional programms."
   ]
  },
  {
   "cell_type": "markdown",
   "metadata": {},
   "source": [
    "### Plot bar histograms and feature distributions for those who left (churn) and those who stayed."
   ]
  },
  {
   "cell_type": "code",
   "execution_count": 15,
   "metadata": {},
   "outputs": [],
   "source": [
    "df_ch = df.query('Churn == 1')"
   ]
  },
  {
   "cell_type": "code",
   "execution_count": 16,
   "metadata": {
    "scrolled": true
   },
   "outputs": [
    {
     "data": {
      "text/html": [
       "<div>\n",
       "<style scoped>\n",
       "    .dataframe tbody tr th:only-of-type {\n",
       "        vertical-align: middle;\n",
       "    }\n",
       "\n",
       "    .dataframe tbody tr th {\n",
       "        vertical-align: top;\n",
       "    }\n",
       "\n",
       "    .dataframe thead th {\n",
       "        text-align: right;\n",
       "    }\n",
       "</style>\n",
       "<table border=\"1\" class=\"dataframe\">\n",
       "  <thead>\n",
       "    <tr style=\"text-align: right;\">\n",
       "      <th></th>\n",
       "      <th>gender</th>\n",
       "      <th>Near_Location</th>\n",
       "      <th>Partner</th>\n",
       "      <th>Promo_friends</th>\n",
       "      <th>Phone</th>\n",
       "      <th>Contract_period</th>\n",
       "      <th>Group_visits</th>\n",
       "      <th>Age</th>\n",
       "      <th>Avg_additional_charges_total</th>\n",
       "      <th>Month_to_end_contract</th>\n",
       "      <th>Lifetime</th>\n",
       "      <th>Avg_class_frequency_total</th>\n",
       "      <th>Avg_class_frequency_current_month</th>\n",
       "      <th>Churn</th>\n",
       "    </tr>\n",
       "  </thead>\n",
       "  <tbody>\n",
       "    <tr>\n",
       "      <th>7</th>\n",
       "      <td>0</td>\n",
       "      <td>1</td>\n",
       "      <td>0</td>\n",
       "      <td>0</td>\n",
       "      <td>1</td>\n",
       "      <td>1</td>\n",
       "      <td>0</td>\n",
       "      <td>30</td>\n",
       "      <td>217.786641</td>\n",
       "      <td>1.0</td>\n",
       "      <td>0</td>\n",
       "      <td>1.213502</td>\n",
       "      <td>1.049387</td>\n",
       "      <td>1</td>\n",
       "    </tr>\n",
       "    <tr>\n",
       "      <th>11</th>\n",
       "      <td>1</td>\n",
       "      <td>1</td>\n",
       "      <td>1</td>\n",
       "      <td>0</td>\n",
       "      <td>1</td>\n",
       "      <td>1</td>\n",
       "      <td>0</td>\n",
       "      <td>27</td>\n",
       "      <td>266.783824</td>\n",
       "      <td>1.0</td>\n",
       "      <td>2</td>\n",
       "      <td>2.348535</td>\n",
       "      <td>1.584316</td>\n",
       "      <td>1</td>\n",
       "    </tr>\n",
       "    <tr>\n",
       "      <th>13</th>\n",
       "      <td>1</td>\n",
       "      <td>1</td>\n",
       "      <td>0</td>\n",
       "      <td>0</td>\n",
       "      <td>1</td>\n",
       "      <td>1</td>\n",
       "      <td>1</td>\n",
       "      <td>27</td>\n",
       "      <td>152.748668</td>\n",
       "      <td>1.0</td>\n",
       "      <td>1</td>\n",
       "      <td>0.000000</td>\n",
       "      <td>0.000000</td>\n",
       "      <td>1</td>\n",
       "    </tr>\n",
       "    <tr>\n",
       "      <th>21</th>\n",
       "      <td>0</td>\n",
       "      <td>0</td>\n",
       "      <td>0</td>\n",
       "      <td>0</td>\n",
       "      <td>1</td>\n",
       "      <td>1</td>\n",
       "      <td>0</td>\n",
       "      <td>30</td>\n",
       "      <td>153.198594</td>\n",
       "      <td>1.0</td>\n",
       "      <td>3</td>\n",
       "      <td>0.636382</td>\n",
       "      <td>0.000000</td>\n",
       "      <td>1</td>\n",
       "    </tr>\n",
       "  </tbody>\n",
       "</table>\n",
       "</div>"
      ],
      "text/plain": [
       "    gender  Near_Location  Partner  Promo_friends  Phone  Contract_period  \\\n",
       "7        0              1        0              0      1                1   \n",
       "11       1              1        1              0      1                1   \n",
       "13       1              1        0              0      1                1   \n",
       "21       0              0        0              0      1                1   \n",
       "\n",
       "    Group_visits  Age  Avg_additional_charges_total  Month_to_end_contract  \\\n",
       "7              0   30                    217.786641                    1.0   \n",
       "11             0   27                    266.783824                    1.0   \n",
       "13             1   27                    152.748668                    1.0   \n",
       "21             0   30                    153.198594                    1.0   \n",
       "\n",
       "    Lifetime  Avg_class_frequency_total  Avg_class_frequency_current_month  \\\n",
       "7          0                   1.213502                           1.049387   \n",
       "11         2                   2.348535                           1.584316   \n",
       "13         1                   0.000000                           0.000000   \n",
       "21         3                   0.636382                           0.000000   \n",
       "\n",
       "    Churn  \n",
       "7       1  \n",
       "11      1  \n",
       "13      1  \n",
       "21      1  "
      ]
     },
     "execution_count": 16,
     "metadata": {},
     "output_type": "execute_result"
    }
   ],
   "source": [
    "df_ch.head(4)"
   ]
  },
  {
   "cell_type": "code",
   "execution_count": 17,
   "metadata": {},
   "outputs": [],
   "source": [
    "df_st = df.query('Churn == 0')"
   ]
  },
  {
   "cell_type": "code",
   "execution_count": 18,
   "metadata": {
    "scrolled": true
   },
   "outputs": [
    {
     "name": "stdout",
     "output_type": "stream",
     "text": [
      "<class 'pandas.core.frame.DataFrame'>\n",
      "Int64Index: 2939 entries, 0 to 3999\n",
      "Data columns (total 14 columns):\n",
      " #   Column                             Non-Null Count  Dtype  \n",
      "---  ------                             --------------  -----  \n",
      " 0   gender                             2939 non-null   int64  \n",
      " 1   Near_Location                      2939 non-null   int64  \n",
      " 2   Partner                            2939 non-null   int64  \n",
      " 3   Promo_friends                      2939 non-null   int64  \n",
      " 4   Phone                              2939 non-null   int64  \n",
      " 5   Contract_period                    2939 non-null   int64  \n",
      " 6   Group_visits                       2939 non-null   int64  \n",
      " 7   Age                                2939 non-null   int64  \n",
      " 8   Avg_additional_charges_total       2939 non-null   float64\n",
      " 9   Month_to_end_contract              2939 non-null   float64\n",
      " 10  Lifetime                           2939 non-null   int64  \n",
      " 11  Avg_class_frequency_total          2939 non-null   float64\n",
      " 12  Avg_class_frequency_current_month  2939 non-null   float64\n",
      " 13  Churn                              2939 non-null   int64  \n",
      "dtypes: float64(4), int64(10)\n",
      "memory usage: 344.4 KB\n"
     ]
    }
   ],
   "source": [
    "df_st.info()"
   ]
  },
  {
   "cell_type": "code",
   "execution_count": 19,
   "metadata": {},
   "outputs": [
    {
     "data": {
      "text/html": [
       "<div>\n",
       "<style scoped>\n",
       "    .dataframe tbody tr th:only-of-type {\n",
       "        vertical-align: middle;\n",
       "    }\n",
       "\n",
       "    .dataframe tbody tr th {\n",
       "        vertical-align: top;\n",
       "    }\n",
       "\n",
       "    .dataframe thead th {\n",
       "        text-align: right;\n",
       "    }\n",
       "</style>\n",
       "<table border=\"1\" class=\"dataframe\">\n",
       "  <thead>\n",
       "    <tr style=\"text-align: right;\">\n",
       "      <th></th>\n",
       "      <th>gender</th>\n",
       "      <th>Near_Location</th>\n",
       "      <th>Partner</th>\n",
       "      <th>Promo_friends</th>\n",
       "      <th>Phone</th>\n",
       "      <th>Contract_period</th>\n",
       "      <th>Group_visits</th>\n",
       "      <th>Age</th>\n",
       "      <th>Avg_additional_charges_total</th>\n",
       "      <th>Month_to_end_contract</th>\n",
       "      <th>Lifetime</th>\n",
       "      <th>Avg_class_frequency_total</th>\n",
       "      <th>Avg_class_frequency_current_month</th>\n",
       "      <th>Churn</th>\n",
       "    </tr>\n",
       "  </thead>\n",
       "  <tbody>\n",
       "    <tr>\n",
       "      <th>0</th>\n",
       "      <td>1</td>\n",
       "      <td>1</td>\n",
       "      <td>1</td>\n",
       "      <td>1</td>\n",
       "      <td>0</td>\n",
       "      <td>6</td>\n",
       "      <td>1</td>\n",
       "      <td>29</td>\n",
       "      <td>14.227470</td>\n",
       "      <td>5.0</td>\n",
       "      <td>3</td>\n",
       "      <td>0.020398</td>\n",
       "      <td>0.000000</td>\n",
       "      <td>0</td>\n",
       "    </tr>\n",
       "    <tr>\n",
       "      <th>1</th>\n",
       "      <td>0</td>\n",
       "      <td>1</td>\n",
       "      <td>0</td>\n",
       "      <td>0</td>\n",
       "      <td>1</td>\n",
       "      <td>12</td>\n",
       "      <td>1</td>\n",
       "      <td>31</td>\n",
       "      <td>113.202938</td>\n",
       "      <td>12.0</td>\n",
       "      <td>7</td>\n",
       "      <td>1.922936</td>\n",
       "      <td>1.910244</td>\n",
       "      <td>0</td>\n",
       "    </tr>\n",
       "    <tr>\n",
       "      <th>2</th>\n",
       "      <td>0</td>\n",
       "      <td>1</td>\n",
       "      <td>1</td>\n",
       "      <td>0</td>\n",
       "      <td>1</td>\n",
       "      <td>1</td>\n",
       "      <td>0</td>\n",
       "      <td>28</td>\n",
       "      <td>129.448479</td>\n",
       "      <td>1.0</td>\n",
       "      <td>2</td>\n",
       "      <td>1.859098</td>\n",
       "      <td>1.736502</td>\n",
       "      <td>0</td>\n",
       "    </tr>\n",
       "    <tr>\n",
       "      <th>3</th>\n",
       "      <td>0</td>\n",
       "      <td>1</td>\n",
       "      <td>1</td>\n",
       "      <td>1</td>\n",
       "      <td>1</td>\n",
       "      <td>12</td>\n",
       "      <td>1</td>\n",
       "      <td>33</td>\n",
       "      <td>62.669863</td>\n",
       "      <td>12.0</td>\n",
       "      <td>2</td>\n",
       "      <td>3.205633</td>\n",
       "      <td>3.357215</td>\n",
       "      <td>0</td>\n",
       "    </tr>\n",
       "    <tr>\n",
       "      <th>4</th>\n",
       "      <td>1</td>\n",
       "      <td>1</td>\n",
       "      <td>1</td>\n",
       "      <td>1</td>\n",
       "      <td>1</td>\n",
       "      <td>1</td>\n",
       "      <td>0</td>\n",
       "      <td>26</td>\n",
       "      <td>198.362265</td>\n",
       "      <td>1.0</td>\n",
       "      <td>3</td>\n",
       "      <td>1.113884</td>\n",
       "      <td>1.120078</td>\n",
       "      <td>0</td>\n",
       "    </tr>\n",
       "  </tbody>\n",
       "</table>\n",
       "</div>"
      ],
      "text/plain": [
       "   gender  Near_Location  Partner  Promo_friends  Phone  Contract_period  \\\n",
       "0       1              1        1              1      0                6   \n",
       "1       0              1        0              0      1               12   \n",
       "2       0              1        1              0      1                1   \n",
       "3       0              1        1              1      1               12   \n",
       "4       1              1        1              1      1                1   \n",
       "\n",
       "   Group_visits  Age  Avg_additional_charges_total  Month_to_end_contract  \\\n",
       "0             1   29                     14.227470                    5.0   \n",
       "1             1   31                    113.202938                   12.0   \n",
       "2             0   28                    129.448479                    1.0   \n",
       "3             1   33                     62.669863                   12.0   \n",
       "4             0   26                    198.362265                    1.0   \n",
       "\n",
       "   Lifetime  Avg_class_frequency_total  Avg_class_frequency_current_month  \\\n",
       "0         3                   0.020398                           0.000000   \n",
       "1         7                   1.922936                           1.910244   \n",
       "2         2                   1.859098                           1.736502   \n",
       "3         2                   3.205633                           3.357215   \n",
       "4         3                   1.113884                           1.120078   \n",
       "\n",
       "   Churn  \n",
       "0      0  \n",
       "1      0  \n",
       "2      0  \n",
       "3      0  \n",
       "4      0  "
      ]
     },
     "execution_count": 19,
     "metadata": {},
     "output_type": "execute_result"
    }
   ],
   "source": [
    "df_st.head(5)"
   ]
  },
  {
   "cell_type": "code",
   "execution_count": 20,
   "metadata": {},
   "outputs": [
    {
     "data": {
      "image/png": "[encoded data removed]",
      "text/plain": [
       "<Figure size 1224x1224 with 12 Axes>"
      ]
     },
     "metadata": {
      "needs_background": "light"
     },
     "output_type": "display_data"
    }
   ],
   "source": [
    "count=1\n",
    "plt.subplots(figsize=(17, 17))\n",
    "for i in df.drop('Churn',axis=1).columns:\n",
    "    if count > 12:\n",
    "        continue\n",
    "    else:\n",
    "        plt.subplot(4,3,count)\n",
    "        plt.title('Churn Distribution: {}'.format(str(i)))\n",
    "        sns.histplot(data=df, x=i, hue='Churn', palette='husl')\n",
    "        count+=1\n",
    "plt.tight_layout()\n",
    "plt.show()"
   ]
  },
  {
   "cell_type": "markdown",
   "metadata": {},
   "source": [
    "Distribution of gender has almost no difference for both groups - churn and non-churn. Whether the user lives or works in the neighborhood where the gym is located is playing role in a churn - more than half of customers who has no near location churn while less than half of those who located near to the gym churn.\n",
    "\n",
    "Nearly half of customers, who is not a participant of a programms 'partner' or 'friend' - churn, share of non-churn customers between programms participants are significantly higher.  \n",
    "\n",
    "Share of customers who signed 1 month contract are more than those who signed 6 and 12 months contract, more than 70% of customers who sign 1 month contract churn. While less than 10% of customers who sign 12 months contract churn.\n",
    "Age distribution - younger people are more likely to churn than older. Liftime distribution - new customers are more likely to churn than old customers."
   ]
  },
  {
   "cell_type": "markdown",
   "metadata": {},
   "source": [
    "### Build a correlation matrix and display it."
   ]
  },
  {
   "cell_type": "code",
   "execution_count": 21,
   "metadata": {},
   "outputs": [],
   "source": [
    "dfc = df.corr()"
   ]
  },
  {
   "cell_type": "code",
   "execution_count": 22,
   "metadata": {},
   "outputs": [
    {
     "data": {
      "text/html": [
       "<div>\n",
       "<style scoped>\n",
       "    .dataframe tbody tr th:only-of-type {\n",
       "        vertical-align: middle;\n",
       "    }\n",
       "\n",
       "    .dataframe tbody tr th {\n",
       "        vertical-align: top;\n",
       "    }\n",
       "\n",
       "    .dataframe thead th {\n",
       "        text-align: right;\n",
       "    }\n",
       "</style>\n",
       "<table border=\"1\" class=\"dataframe\">\n",
       "  <thead>\n",
       "    <tr style=\"text-align: right;\">\n",
       "      <th></th>\n",
       "      <th>gender</th>\n",
       "      <th>Near_Location</th>\n",
       "      <th>Partner</th>\n",
       "      <th>Promo_friends</th>\n",
       "      <th>Phone</th>\n",
       "      <th>Contract_period</th>\n",
       "      <th>Group_visits</th>\n",
       "      <th>Age</th>\n",
       "      <th>Avg_additional_charges_total</th>\n",
       "      <th>Month_to_end_contract</th>\n",
       "      <th>Lifetime</th>\n",
       "      <th>Avg_class_frequency_total</th>\n",
       "      <th>Avg_class_frequency_current_month</th>\n",
       "      <th>Churn</th>\n",
       "    </tr>\n",
       "  </thead>\n",
       "  <tbody>\n",
       "    <tr>\n",
       "      <th>gender</th>\n",
       "      <td>1.000000</td>\n",
       "      <td>0.006699</td>\n",
       "      <td>-0.010463</td>\n",
       "      <td>-0.005033</td>\n",
       "      <td>-0.008542</td>\n",
       "      <td>0.000502</td>\n",
       "      <td>0.017879</td>\n",
       "      <td>0.013807</td>\n",
       "      <td>-0.009334</td>\n",
       "      <td>-0.001281</td>\n",
       "      <td>0.013579</td>\n",
       "      <td>0.014620</td>\n",
       "      <td>0.009156</td>\n",
       "      <td>0.000708</td>\n",
       "    </tr>\n",
       "    <tr>\n",
       "      <th>Near_Location</th>\n",
       "      <td>0.006699</td>\n",
       "      <td>1.000000</td>\n",
       "      <td>-0.005119</td>\n",
       "      <td>0.210964</td>\n",
       "      <td>-0.015763</td>\n",
       "      <td>0.150233</td>\n",
       "      <td>0.154728</td>\n",
       "      <td>0.058358</td>\n",
       "      <td>0.040761</td>\n",
       "      <td>0.143961</td>\n",
       "      <td>0.070921</td>\n",
       "      <td>0.043127</td>\n",
       "      <td>0.062664</td>\n",
       "      <td>-0.128098</td>\n",
       "    </tr>\n",
       "    <tr>\n",
       "      <th>Partner</th>\n",
       "      <td>-0.010463</td>\n",
       "      <td>-0.005119</td>\n",
       "      <td>1.000000</td>\n",
       "      <td>0.451960</td>\n",
       "      <td>0.009970</td>\n",
       "      <td>0.306166</td>\n",
       "      <td>0.022710</td>\n",
       "      <td>0.047480</td>\n",
       "      <td>0.022941</td>\n",
       "      <td>0.294632</td>\n",
       "      <td>0.061229</td>\n",
       "      <td>0.024938</td>\n",
       "      <td>0.045561</td>\n",
       "      <td>-0.157986</td>\n",
       "    </tr>\n",
       "    <tr>\n",
       "      <th>Promo_friends</th>\n",
       "      <td>-0.005033</td>\n",
       "      <td>0.210964</td>\n",
       "      <td>0.451960</td>\n",
       "      <td>1.000000</td>\n",
       "      <td>0.001982</td>\n",
       "      <td>0.244552</td>\n",
       "      <td>0.120170</td>\n",
       "      <td>0.050113</td>\n",
       "      <td>0.036898</td>\n",
       "      <td>0.239553</td>\n",
       "      <td>0.072721</td>\n",
       "      <td>0.028063</td>\n",
       "      <td>0.053768</td>\n",
       "      <td>-0.162233</td>\n",
       "    </tr>\n",
       "    <tr>\n",
       "      <th>Phone</th>\n",
       "      <td>-0.008542</td>\n",
       "      <td>-0.015763</td>\n",
       "      <td>0.009970</td>\n",
       "      <td>0.001982</td>\n",
       "      <td>1.000000</td>\n",
       "      <td>-0.006893</td>\n",
       "      <td>-0.010099</td>\n",
       "      <td>-0.011403</td>\n",
       "      <td>0.009279</td>\n",
       "      <td>-0.011196</td>\n",
       "      <td>-0.018801</td>\n",
       "      <td>0.008340</td>\n",
       "      <td>0.013375</td>\n",
       "      <td>-0.001177</td>\n",
       "    </tr>\n",
       "    <tr>\n",
       "      <th>Contract_period</th>\n",
       "      <td>0.000502</td>\n",
       "      <td>0.150233</td>\n",
       "      <td>0.306166</td>\n",
       "      <td>0.244552</td>\n",
       "      <td>-0.006893</td>\n",
       "      <td>1.000000</td>\n",
       "      <td>0.169991</td>\n",
       "      <td>0.138249</td>\n",
       "      <td>0.111445</td>\n",
       "      <td>0.973064</td>\n",
       "      <td>0.170725</td>\n",
       "      <td>0.096211</td>\n",
       "      <td>0.159407</td>\n",
       "      <td>-0.389984</td>\n",
       "    </tr>\n",
       "    <tr>\n",
       "      <th>Group_visits</th>\n",
       "      <td>0.017879</td>\n",
       "      <td>0.154728</td>\n",
       "      <td>0.022710</td>\n",
       "      <td>0.120170</td>\n",
       "      <td>-0.010099</td>\n",
       "      <td>0.169991</td>\n",
       "      <td>1.000000</td>\n",
       "      <td>0.080934</td>\n",
       "      <td>0.032079</td>\n",
       "      <td>0.163703</td>\n",
       "      <td>0.075853</td>\n",
       "      <td>0.056695</td>\n",
       "      <td>0.075923</td>\n",
       "      <td>-0.175325</td>\n",
       "    </tr>\n",
       "    <tr>\n",
       "      <th>Age</th>\n",
       "      <td>0.013807</td>\n",
       "      <td>0.058358</td>\n",
       "      <td>0.047480</td>\n",
       "      <td>0.050113</td>\n",
       "      <td>-0.011403</td>\n",
       "      <td>0.138249</td>\n",
       "      <td>0.080934</td>\n",
       "      <td>1.000000</td>\n",
       "      <td>0.080240</td>\n",
       "      <td>0.134511</td>\n",
       "      <td>0.164693</td>\n",
       "      <td>0.119953</td>\n",
       "      <td>0.183095</td>\n",
       "      <td>-0.404735</td>\n",
       "    </tr>\n",
       "    <tr>\n",
       "      <th>Avg_additional_charges_total</th>\n",
       "      <td>-0.009334</td>\n",
       "      <td>0.040761</td>\n",
       "      <td>0.022941</td>\n",
       "      <td>0.036898</td>\n",
       "      <td>0.009279</td>\n",
       "      <td>0.111445</td>\n",
       "      <td>0.032079</td>\n",
       "      <td>0.080240</td>\n",
       "      <td>1.000000</td>\n",
       "      <td>0.113958</td>\n",
       "      <td>0.079028</td>\n",
       "      <td>0.044426</td>\n",
       "      <td>0.079570</td>\n",
       "      <td>-0.198697</td>\n",
       "    </tr>\n",
       "    <tr>\n",
       "      <th>Month_to_end_contract</th>\n",
       "      <td>-0.001281</td>\n",
       "      <td>0.143961</td>\n",
       "      <td>0.294632</td>\n",
       "      <td>0.239553</td>\n",
       "      <td>-0.011196</td>\n",
       "      <td>0.973064</td>\n",
       "      <td>0.163703</td>\n",
       "      <td>0.134511</td>\n",
       "      <td>0.113958</td>\n",
       "      <td>1.000000</td>\n",
       "      <td>0.161078</td>\n",
       "      <td>0.085387</td>\n",
       "      <td>0.147605</td>\n",
       "      <td>-0.381393</td>\n",
       "    </tr>\n",
       "    <tr>\n",
       "      <th>Lifetime</th>\n",
       "      <td>0.013579</td>\n",
       "      <td>0.070921</td>\n",
       "      <td>0.061229</td>\n",
       "      <td>0.072721</td>\n",
       "      <td>-0.018801</td>\n",
       "      <td>0.170725</td>\n",
       "      <td>0.075853</td>\n",
       "      <td>0.164693</td>\n",
       "      <td>0.079028</td>\n",
       "      <td>0.161078</td>\n",
       "      <td>1.000000</td>\n",
       "      <td>0.112338</td>\n",
       "      <td>0.181975</td>\n",
       "      <td>-0.438220</td>\n",
       "    </tr>\n",
       "    <tr>\n",
       "      <th>Avg_class_frequency_total</th>\n",
       "      <td>0.014620</td>\n",
       "      <td>0.043127</td>\n",
       "      <td>0.024938</td>\n",
       "      <td>0.028063</td>\n",
       "      <td>0.008340</td>\n",
       "      <td>0.096211</td>\n",
       "      <td>0.056695</td>\n",
       "      <td>0.119953</td>\n",
       "      <td>0.044426</td>\n",
       "      <td>0.085387</td>\n",
       "      <td>0.112338</td>\n",
       "      <td>1.000000</td>\n",
       "      <td>0.952739</td>\n",
       "      <td>-0.249715</td>\n",
       "    </tr>\n",
       "    <tr>\n",
       "      <th>Avg_class_frequency_current_month</th>\n",
       "      <td>0.009156</td>\n",
       "      <td>0.062664</td>\n",
       "      <td>0.045561</td>\n",
       "      <td>0.053768</td>\n",
       "      <td>0.013375</td>\n",
       "      <td>0.159407</td>\n",
       "      <td>0.075923</td>\n",
       "      <td>0.183095</td>\n",
       "      <td>0.079570</td>\n",
       "      <td>0.147605</td>\n",
       "      <td>0.181975</td>\n",
       "      <td>0.952739</td>\n",
       "      <td>1.000000</td>\n",
       "      <td>-0.412348</td>\n",
       "    </tr>\n",
       "    <tr>\n",
       "      <th>Churn</th>\n",
       "      <td>0.000708</td>\n",
       "      <td>-0.128098</td>\n",
       "      <td>-0.157986</td>\n",
       "      <td>-0.162233</td>\n",
       "      <td>-0.001177</td>\n",
       "      <td>-0.389984</td>\n",
       "      <td>-0.175325</td>\n",
       "      <td>-0.404735</td>\n",
       "      <td>-0.198697</td>\n",
       "      <td>-0.381393</td>\n",
       "      <td>-0.438220</td>\n",
       "      <td>-0.249715</td>\n",
       "      <td>-0.412348</td>\n",
       "      <td>1.000000</td>\n",
       "    </tr>\n",
       "  </tbody>\n",
       "</table>\n",
       "</div>"
      ],
      "text/plain": [
       "                                     gender  Near_Location   Partner  \\\n",
       "gender                             1.000000       0.006699 -0.010463   \n",
       "Near_Location                      0.006699       1.000000 -0.005119   \n",
       "Partner                           -0.010463      -0.005119  1.000000   \n",
       "Promo_friends                     -0.005033       0.210964  0.451960   \n",
       "Phone                             -0.008542      -0.015763  0.009970   \n",
       "Contract_period                    0.000502       0.150233  0.306166   \n",
       "Group_visits                       0.017879       0.154728  0.022710   \n",
       "Age                                0.013807       0.058358  0.047480   \n",
       "Avg_additional_charges_total      -0.009334       0.040761  0.022941   \n",
       "Month_to_end_contract             -0.001281       0.143961  0.294632   \n",
       "Lifetime                           0.013579       0.070921  0.061229   \n",
       "Avg_class_frequency_total          0.014620       0.043127  0.024938   \n",
       "Avg_class_frequency_current_month  0.009156       0.062664  0.045561   \n",
       "Churn                              0.000708      -0.128098 -0.157986   \n",
       "\n",
       "                                   Promo_friends     Phone  Contract_period  \\\n",
       "gender                                 -0.005033 -0.008542         0.000502   \n",
       "Near_Location                           0.210964 -0.015763         0.150233   \n",
       "Partner                                 0.451960  0.009970         0.306166   \n",
       "Promo_friends                           1.000000  0.001982         0.244552   \n",
       "Phone                                   0.001982  1.000000        -0.006893   \n",
       "Contract_period                         0.244552 -0.006893         1.000000   \n",
       "Group_visits                            0.120170 -0.010099         0.169991   \n",
       "Age                                     0.050113 -0.011403         0.138249   \n",
       "Avg_additional_charges_total            0.036898  0.009279         0.111445   \n",
       "Month_to_end_contract                   0.239553 -0.011196         0.973064   \n",
       "Lifetime                                0.072721 -0.018801         0.170725   \n",
       "Avg_class_frequency_total               0.028063  0.008340         0.096211   \n",
       "Avg_class_frequency_current_month       0.053768  0.013375         0.159407   \n",
       "Churn                                  -0.162233 -0.001177        -0.389984   \n",
       "\n",
       "                                   Group_visits       Age  \\\n",
       "gender                                 0.017879  0.013807   \n",
       "Near_Location                          0.154728  0.058358   \n",
       "Partner                                0.022710  0.047480   \n",
       "Promo_friends                          0.120170  0.050113   \n",
       "Phone                                 -0.010099 -0.011403   \n",
       "Contract_period                        0.169991  0.138249   \n",
       "Group_visits                           1.000000  0.080934   \n",
       "Age                                    0.080934  1.000000   \n",
       "Avg_additional_charges_total           0.032079  0.080240   \n",
       "Month_to_end_contract                  0.163703  0.134511   \n",
       "Lifetime                               0.075853  0.164693   \n",
       "Avg_class_frequency_total              0.056695  0.119953   \n",
       "Avg_class_frequency_current_month      0.075923  0.183095   \n",
       "Churn                                 -0.175325 -0.404735   \n",
       "\n",
       "                                   Avg_additional_charges_total  \\\n",
       "gender                                                -0.009334   \n",
       "Near_Location                                          0.040761   \n",
       "Partner                                                0.022941   \n",
       "Promo_friends                                          0.036898   \n",
       "Phone                                                  0.009279   \n",
       "Contract_period                                        0.111445   \n",
       "Group_visits                                           0.032079   \n",
       "Age                                                    0.080240   \n",
       "Avg_additional_charges_total                           1.000000   \n",
       "Month_to_end_contract                                  0.113958   \n",
       "Lifetime                                               0.079028   \n",
       "Avg_class_frequency_total                              0.044426   \n",
       "Avg_class_frequency_current_month                      0.079570   \n",
       "Churn                                                 -0.198697   \n",
       "\n",
       "                                   Month_to_end_contract  Lifetime  \\\n",
       "gender                                         -0.001281  0.013579   \n",
       "Near_Location                                   0.143961  0.070921   \n",
       "Partner                                         0.294632  0.061229   \n",
       "Promo_friends                                   0.239553  0.072721   \n",
       "Phone                                          -0.011196 -0.018801   \n",
       "Contract_period                                 0.973064  0.170725   \n",
       "Group_visits                                    0.163703  0.075853   \n",
       "Age                                             0.134511  0.164693   \n",
       "Avg_additional_charges_total                    0.113958  0.079028   \n",
       "Month_to_end_contract                           1.000000  0.161078   \n",
       "Lifetime                                        0.161078  1.000000   \n",
       "Avg_class_frequency_total                       0.085387  0.112338   \n",
       "Avg_class_frequency_current_month               0.147605  0.181975   \n",
       "Churn                                          -0.381393 -0.438220   \n",
       "\n",
       "                                   Avg_class_frequency_total  \\\n",
       "gender                                              0.014620   \n",
       "Near_Location                                       0.043127   \n",
       "Partner                                             0.024938   \n",
       "Promo_friends                                       0.028063   \n",
       "Phone                                               0.008340   \n",
       "Contract_period                                     0.096211   \n",
       "Group_visits                                        0.056695   \n",
       "Age                                                 0.119953   \n",
       "Avg_additional_charges_total                        0.044426   \n",
       "Month_to_end_contract                               0.085387   \n",
       "Lifetime                                            0.112338   \n",
       "Avg_class_frequency_total                           1.000000   \n",
       "Avg_class_frequency_current_month                   0.952739   \n",
       "Churn                                              -0.249715   \n",
       "\n",
       "                                   Avg_class_frequency_current_month     Churn  \n",
       "gender                                                      0.009156  0.000708  \n",
       "Near_Location                                               0.062664 -0.128098  \n",
       "Partner                                                     0.045561 -0.157986  \n",
       "Promo_friends                                               0.053768 -0.162233  \n",
       "Phone                                                       0.013375 -0.001177  \n",
       "Contract_period                                             0.159407 -0.389984  \n",
       "Group_visits                                                0.075923 -0.175325  \n",
       "Age                                                         0.183095 -0.404735  \n",
       "Avg_additional_charges_total                                0.079570 -0.198697  \n",
       "Month_to_end_contract                                       0.147605 -0.381393  \n",
       "Lifetime                                                    0.181975 -0.438220  \n",
       "Avg_class_frequency_total                                   0.952739 -0.249715  \n",
       "Avg_class_frequency_current_month                           1.000000 -0.412348  \n",
       "Churn                                                      -0.412348  1.000000  "
      ]
     },
     "execution_count": 22,
     "metadata": {},
     "output_type": "execute_result"
    }
   ],
   "source": [
    "dfc"
   ]
  },
  {
   "cell_type": "code",
   "execution_count": 25,
   "metadata": {
    "scrolled": false
   },
   "outputs": [
    {
     "data": {
      "image/png": "[encoded data removed]",
      "text/plain": [
       "<Figure size 1080x1080 with 2 Axes>"
      ]
     },
     "metadata": {
      "needs_background": "light"
     },
     "output_type": "display_data"
    }
   ],
   "source": [
    "plt.figure(figsize = (15,15))\n",
    "sns.heatmap(dfc, annot = True, square=True)\n",
    "plt.title('Correlation')\n",
    "plt.show()"
   ]
  },
  {
   "cell_type": "markdown",
   "metadata": {},
   "source": [
    "'Avg_class_frequency_current_month' and 'avg_class_frequency_total' has a correlation of 0.95 which indicates presence of multicollinearity between the two variables. 'Avg_class_frequency_current_month' we be dropped.\n",
    "'Month_to_end_contract' and 'Contract_period' has a correlation of 0.97, but these columns are categorical."
   ]
  },
  {
   "cell_type": "code",
   "execution_count": 26,
   "metadata": {},
   "outputs": [],
   "source": [
    "df.drop(['Avg_class_frequency_current_month'], axis=1, inplace= True)"
   ]
  },
  {
   "cell_type": "code",
   "execution_count": 27,
   "metadata": {},
   "outputs": [],
   "source": [
    "dfch = df_ch.corr()"
   ]
  },
  {
   "cell_type": "code",
   "execution_count": 28,
   "metadata": {
    "scrolled": false
   },
   "outputs": [],
   "source": [
    "dfst = df_st.corr()"
   ]
  },
  {
   "cell_type": "markdown",
   "metadata": {},
   "source": [
    "EDA analysis showed the distribution of features based on churn. Correlation showed presence of multicollinearity, 'Avg_class_frequency_current_month' was removed to prepare the data for building a model to predicting user churn."
   ]
  },
  {
   "cell_type": "markdown",
   "metadata": {},
   "source": [
    "## Build a model to predict user churn"
   ]
  },
  {
   "cell_type": "markdown",
   "metadata": {},
   "source": [
    "Build a binary classification model for customers where the target feature is the user's leaving next month.\n",
    "* \t\tDivide the data into train and validation sets using the train_test_split() function.\n",
    "* \t\tTrain the model on the train set with two methods:\n",
    "    * \t\tlogistic regression\n",
    "    * \t\trandom forest\n",
    "* \t\tEvaluate accuracy, precision, and recall for both models using the validation data. Use them to compare the models. Which model gave better results?\n",
    "Remember to indicate the random_state parameter when dividing data and defining the algorithm.\n"
   ]
  },
  {
   "cell_type": "markdown",
   "metadata": {},
   "source": [
    "### Divide the data into train and validation sets using the train_test_split() function."
   ]
  },
  {
   "cell_type": "code",
   "execution_count": 29,
   "metadata": {
    "scrolled": false
   },
   "outputs": [
    {
     "name": "stdout",
     "output_type": "stream",
     "text": [
      "<class 'pandas.core.frame.DataFrame'>\n",
      "RangeIndex: 4000 entries, 0 to 3999\n",
      "Data columns (total 13 columns):\n",
      " #   Column                        Non-Null Count  Dtype  \n",
      "---  ------                        --------------  -----  \n",
      " 0   gender                        4000 non-null   int64  \n",
      " 1   Near_Location                 4000 non-null   int64  \n",
      " 2   Partner                       4000 non-null   int64  \n",
      " 3   Promo_friends                 4000 non-null   int64  \n",
      " 4   Phone                         4000 non-null   int64  \n",
      " 5   Contract_period               4000 non-null   int64  \n",
      " 6   Group_visits                  4000 non-null   int64  \n",
      " 7   Age                           4000 non-null   int64  \n",
      " 8   Avg_additional_charges_total  4000 non-null   float64\n",
      " 9   Month_to_end_contract         4000 non-null   float64\n",
      " 10  Lifetime                      4000 non-null   int64  \n",
      " 11  Avg_class_frequency_total     4000 non-null   float64\n",
      " 12  Churn                         4000 non-null   int64  \n",
      "dtypes: float64(3), int64(10)\n",
      "memory usage: 406.4 KB\n"
     ]
    }
   ],
   "source": [
    "df.info()"
   ]
  },
  {
   "cell_type": "code",
   "execution_count": 30,
   "metadata": {
    "scrolled": true
   },
   "outputs": [
    {
     "data": {
      "text/html": [
       "<div>\n",
       "<style scoped>\n",
       "    .dataframe tbody tr th:only-of-type {\n",
       "        vertical-align: middle;\n",
       "    }\n",
       "\n",
       "    .dataframe tbody tr th {\n",
       "        vertical-align: top;\n",
       "    }\n",
       "\n",
       "    .dataframe thead th {\n",
       "        text-align: right;\n",
       "    }\n",
       "</style>\n",
       "<table border=\"1\" class=\"dataframe\">\n",
       "  <thead>\n",
       "    <tr style=\"text-align: right;\">\n",
       "      <th></th>\n",
       "      <th>gender</th>\n",
       "      <th>Near_Location</th>\n",
       "      <th>Partner</th>\n",
       "      <th>Promo_friends</th>\n",
       "      <th>Phone</th>\n",
       "      <th>Contract_period</th>\n",
       "      <th>Group_visits</th>\n",
       "      <th>Age</th>\n",
       "      <th>Avg_additional_charges_total</th>\n",
       "      <th>Month_to_end_contract</th>\n",
       "      <th>Lifetime</th>\n",
       "      <th>Avg_class_frequency_total</th>\n",
       "      <th>Churn</th>\n",
       "    </tr>\n",
       "  </thead>\n",
       "  <tbody>\n",
       "    <tr>\n",
       "      <th>0</th>\n",
       "      <td>1</td>\n",
       "      <td>1</td>\n",
       "      <td>1</td>\n",
       "      <td>1</td>\n",
       "      <td>0</td>\n",
       "      <td>6</td>\n",
       "      <td>1</td>\n",
       "      <td>29</td>\n",
       "      <td>14.227470</td>\n",
       "      <td>5.0</td>\n",
       "      <td>3</td>\n",
       "      <td>0.020398</td>\n",
       "      <td>0</td>\n",
       "    </tr>\n",
       "    <tr>\n",
       "      <th>1</th>\n",
       "      <td>0</td>\n",
       "      <td>1</td>\n",
       "      <td>0</td>\n",
       "      <td>0</td>\n",
       "      <td>1</td>\n",
       "      <td>12</td>\n",
       "      <td>1</td>\n",
       "      <td>31</td>\n",
       "      <td>113.202938</td>\n",
       "      <td>12.0</td>\n",
       "      <td>7</td>\n",
       "      <td>1.922936</td>\n",
       "      <td>0</td>\n",
       "    </tr>\n",
       "  </tbody>\n",
       "</table>\n",
       "</div>"
      ],
      "text/plain": [
       "   gender  Near_Location  Partner  Promo_friends  Phone  Contract_period  \\\n",
       "0       1              1        1              1      0                6   \n",
       "1       0              1        0              0      1               12   \n",
       "\n",
       "   Group_visits  Age  Avg_additional_charges_total  Month_to_end_contract  \\\n",
       "0             1   29                     14.227470                    5.0   \n",
       "1             1   31                    113.202938                   12.0   \n",
       "\n",
       "   Lifetime  Avg_class_frequency_total  Churn  \n",
       "0         3                   0.020398      0  \n",
       "1         7                   1.922936      0  "
      ]
     },
     "execution_count": 30,
     "metadata": {},
     "output_type": "execute_result"
    }
   ],
   "source": [
    "df.head(2)"
   ]
  },
  {
   "cell_type": "code",
   "execution_count": 31,
   "metadata": {},
   "outputs": [],
   "source": [
    "X = df.drop(\"Churn\",axis=1)\n",
    "y = df[\"Churn\"]\n",
    "\n",
    "X_train, X_test, y_train, y_test = train_test_split(X, y, test_size=0.2)\n",
    "\n",
    "scaler = StandardScaler()\n",
    "X_train_st = scaler.fit_transform(X_train) \n",
    "\n",
    "#print(X_train_st[:2])\n",
    "\n",
    "X_test_st = scaler.transform(X_test)"
   ]
  },
  {
   "cell_type": "markdown",
   "metadata": {},
   "source": [
    "Data devided into train and validation sets using the train_test_split() function. Than splited into 80% training and 20% validation."
   ]
  },
  {
   "cell_type": "markdown",
   "metadata": {},
   "source": [
    "### Train the model on the train set with two methods:\n",
    "    * \t\tlogistic regression\n",
    "    * \t\trandom forest"
   ]
  },
  {
   "cell_type": "markdown",
   "metadata": {},
   "source": [
    "#### Logistic regression"
   ]
  },
  {
   "cell_type": "code",
   "execution_count": 32,
   "metadata": {},
   "outputs": [],
   "source": [
    "# define the model's algorithm\n",
    "model = LogisticRegression() #random_state=42"
   ]
  },
  {
   "cell_type": "code",
   "execution_count": 33,
   "metadata": {},
   "outputs": [
    {
     "data": {
      "text/plain": [
       "LogisticRegression()"
      ]
     },
     "execution_count": 33,
     "metadata": {},
     "output_type": "execute_result"
    }
   ],
   "source": [
    "# train your model\n",
    "model.fit(X_train_st, y_train)"
   ]
  },
  {
   "cell_type": "code",
   "execution_count": 34,
   "metadata": {},
   "outputs": [],
   "source": [
    "# use the trained model to make forecasts\n",
    "LR_probabilities = model.predict_proba(X_test_st)"
   ]
  },
  {
   "cell_type": "code",
   "execution_count": 35,
   "metadata": {},
   "outputs": [],
   "source": [
    "# binary prediction\n",
    "LR_predictions = model.predict(X_test_st)"
   ]
  },
  {
   "cell_type": "code",
   "execution_count": 36,
   "metadata": {},
   "outputs": [],
   "source": [
    "r2 = r2_score(y_test, LR_predictions)"
   ]
  },
  {
   "cell_type": "code",
   "execution_count": 37,
   "metadata": {},
   "outputs": [
    {
     "name": "stdout",
     "output_type": "stream",
     "text": [
      "R-squared value:  0.4762929018984382\n"
     ]
    }
   ],
   "source": [
    "print('R-squared value: ', r2)"
   ]
  },
  {
   "cell_type": "markdown",
   "metadata": {},
   "source": [
    "#### Random forest"
   ]
  },
  {
   "cell_type": "code",
   "execution_count": 39,
   "metadata": {},
   "outputs": [],
   "source": [
    "# define the algorithm for the new random forest model\n",
    "rf_model = RandomForestClassifier(n_estimators = 100, random_state = 0)\n",
    "# train the random forest model\n",
    "rf_model.fit(X_train_st, y_train)\n",
    "\n",
    "rf_predictions = rf_model.predict(X_test_st)\n",
    "rf_probabilities = rf_model.predict_proba(X_test_st)[:,1]"
   ]
  },
  {
   "cell_type": "markdown",
   "metadata": {},
   "source": [
    "The model trained on the train set with two methods: logistic regression and random forest."
   ]
  },
  {
   "cell_type": "markdown",
   "metadata": {},
   "source": [
    "### Evaluate accuracy, precision, and recall for both models using the validation data. Use them to compare the models. Which model gave better results?"
   ]
  },
  {
   "cell_type": "code",
   "execution_count": 40,
   "metadata": {
    "scrolled": true
   },
   "outputs": [
    {
     "name": "stdout",
     "output_type": "stream",
     "text": [
      "Metrics for the automatic prediction made with predict\n",
      "Accuracy: 0.895\n",
      "Precision: 0.825\n",
      "Recall: 0.788\n"
     ]
    }
   ],
   "source": [
    "print('Metrics for the automatic prediction made with predict')\n",
    "print('Accuracy: {:.3f}'.format(accuracy_score(y_test, LR_predictions)))\n",
    "print('Precision: {:.3f}'.format(precision_score(y_test, LR_predictions)))\n",
    "print('Recall: {:.3f}'.format(recall_score(y_test, LR_predictions)))"
   ]
  },
  {
   "cell_type": "code",
   "execution_count": 41,
   "metadata": {},
   "outputs": [
    {
     "name": "stdout",
     "output_type": "stream",
     "text": [
      "Metrics for the automatic prediction made with predict\n",
      "Accuracy: 0.886\n",
      "Precision: 0.823\n",
      "Recall: 0.752\n"
     ]
    }
   ],
   "source": [
    "print('Metrics for the automatic prediction made with predict')\n",
    "print('Accuracy: {:.3f}'.format(accuracy_score(y_test, rf_predictions)))\n",
    "print('Precision: {:.3f}'.format(precision_score(y_test, rf_predictions)))\n",
    "print('Recall: {:.3f}'.format(recall_score(y_test, rf_predictions)))"
   ]
  },
  {
   "cell_type": "code",
   "execution_count": 42,
   "metadata": {},
   "outputs": [],
   "source": [
    "def print_metrics(y_true, y_pred, title = 'Classification metrics'):\n",
    "    print(title)\n",
    "    print('\\tAccuracy: {:.2f}'.format(accuracy_score(y_true, y_pred)))\n",
    "    print('\\tPrecision: {:.2f}'.format(precision_score(y_true, y_pred)))\n",
    "    print('\\tRecall: {:.2f}'.format(recall_score(y_true, y_pred)))"
   ]
  },
  {
   "cell_type": "code",
   "execution_count": 43,
   "metadata": {},
   "outputs": [
    {
     "name": "stdout",
     "output_type": "stream",
     "text": [
      "Metrics for Logistic Regression:\n",
      "\tAccuracy: 0.90\n",
      "\tPrecision: 0.83\n",
      "\tRecall: 0.79\n",
      "\n",
      "Displaying report in classes:\n",
      "              precision    recall  f1-score   support\n",
      "\n",
      "           0       0.92      0.94      0.93       578\n",
      "           1       0.83      0.79      0.81       222\n",
      "\n",
      "    accuracy                           0.90       800\n",
      "   macro avg       0.87      0.86      0.87       800\n",
      "weighted avg       0.89      0.90      0.89       800\n",
      "\n",
      "\n"
     ]
    }
   ],
   "source": [
    "print_metrics(y_test, LR_predictions, title='Metrics for Logistic Regression:')\n",
    "print()\n",
    "print(\"Displaying report in classes:\")\n",
    "print(classification_report(y_test, LR_predictions))\n",
    "\n",
    "print()"
   ]
  },
  {
   "cell_type": "code",
   "execution_count": 44,
   "metadata": {
    "scrolled": true
   },
   "outputs": [
    {
     "name": "stdout",
     "output_type": "stream",
     "text": [
      "Metrics for Random forest:\n",
      "\tAccuracy: 0.89\n",
      "\tPrecision: 0.82\n",
      "\tRecall: 0.75\n",
      "\n",
      "Displaying report in classes:\n",
      "              precision    recall  f1-score   support\n",
      "\n",
      "           0       0.91      0.94      0.92       578\n",
      "           1       0.82      0.75      0.79       222\n",
      "\n",
      "    accuracy                           0.89       800\n",
      "   macro avg       0.87      0.84      0.85       800\n",
      "weighted avg       0.88      0.89      0.88       800\n",
      "\n",
      "\n"
     ]
    }
   ],
   "source": [
    "print_metrics(y_test, rf_predictions, title='Metrics for Random forest:')\n",
    "print()\n",
    "print(\"Displaying report in classes:\")\n",
    "print(classification_report(y_test, rf_predictions))\n",
    "\n",
    "print()"
   ]
  },
  {
   "cell_type": "markdown",
   "metadata": {},
   "source": [
    "Accuracy, precision, and recall for both models evaluated using the validation data. These metrics used to compare the models and choose the model that gave better results. The logistic regression has an accuracy of 90%, a precision of 82%, and a recall of 79%. The randomforest model has an accuracy of 90%, a precision of 84%, and a recall of 76%. The metrics are not significantly different. As Churn is the main interest, the recall score is more important than precision as we are solely interested in true churn cases.\n",
    "\n",
    "The logistic regression performed better, and will be chosen comparing to other model."
   ]
  },
  {
   "cell_type": "markdown",
   "metadata": {},
   "source": [
    "## Create user clusters"
   ]
  },
  {
   "cell_type": "markdown",
   "metadata": {},
   "source": [
    "Set aside the column with data on churn and identify object (user) clusters:\n",
    "* \t\tStandardize the data.\n",
    "* \t\tUse the linkage() function to build a matrix of distances based on the standardized feature matrix and plot a dendrogram. Note: rendering the dendrogram may take time! Use the resulting graph to estimate the number of clusters you can single out.\n",
    "* \t\tTrain the clustering model with the K-means algorithm and predict customer clusters. (Let the number of clusters be n=5, so that it'll be easier to compare your results with those of other students. However, in real life, no one will give you such hints, so you'll have to decide based on the graph from the previous step.)\n",
    "* \t\tLook at the mean feature values for clusters. Does anything catch your eye?\n",
    "* \t\tPlot distributions of features for the clusters. Do you notice anything?\n",
    "* \t\tCalculate the churn rate for each cluster (use the groupby() method). Do they differ in terms of churn rate? Which clusters are prone to leaving, and which are loyal?\n"
   ]
  },
  {
   "cell_type": "markdown",
   "metadata": {},
   "source": [
    "### Standardize the data"
   ]
  },
  {
   "cell_type": "code",
   "execution_count": 40,
   "metadata": {},
   "outputs": [],
   "source": [
    "sc = StandardScaler()\n",
    "x_sc = sc.fit_transform(X)"
   ]
  },
  {
   "cell_type": "markdown",
   "metadata": {},
   "source": [
    "### Use the linkage() function to build a matrix of distances based on the standardized feature matrix and plot a dendrogram."
   ]
  },
  {
   "cell_type": "code",
   "execution_count": 41,
   "metadata": {},
   "outputs": [],
   "source": [
    "linked = linkage(x_sc, method = 'ward')"
   ]
  },
  {
   "cell_type": "code",
   "execution_count": 42,
   "metadata": {},
   "outputs": [
    {
     "data": {
      "image/png": "[encoded data removed]",
      "text/plain": [
       "<Figure size 1080x720 with 1 Axes>"
      ]
     },
     "metadata": {
      "needs_background": "light"
     },
     "output_type": "display_data"
    }
   ],
   "source": [
    "plt.figure(figsize=(15, 10))  \n",
    "dendrogram(linked, orientation='top')\n",
    "plt.title('Hierarchical clustering')\n",
    "plt.show() "
   ]
  },
  {
   "cell_type": "markdown",
   "metadata": {},
   "source": [
    "The suggested optimal number of clusters is 5, corresponds to the five different colors on the plot."
   ]
  },
  {
   "cell_type": "markdown",
   "metadata": {},
   "source": [
    "### Train the clustering model with the K-means algorithm and predict customer clusters. "
   ]
  },
  {
   "cell_type": "markdown",
   "metadata": {},
   "source": [
    "Let the number of clusters be n=5, so that it'll be easier to compare your results with those of other students. However, in real life, no one will give you such hints, so you'll have to decide based on the graph from the previous step."
   ]
  },
  {
   "cell_type": "code",
   "execution_count": 43,
   "metadata": {},
   "outputs": [],
   "source": [
    "# the obligatory standardization of data before passing it to the algorithm\n",
    "sc = StandardScaler()\n",
    "X_sc = sc.fit_transform(X)\n",
    "\n",
    "km = KMeans(n_clusters = 5, random_state=0)\n",
    "labels = km.fit_predict(X_sc)"
   ]
  },
  {
   "cell_type": "markdown",
   "metadata": {},
   "source": [
    "#### Look at the mean feature values for clusters. Does anything catch your eye?"
   ]
  },
  {
   "cell_type": "code",
   "execution_count": 44,
   "metadata": {},
   "outputs": [],
   "source": [
    "df['cluster'] = labels\n",
    " \n",
    "df_grouped = df.groupby('cluster').mean().reset_index()"
   ]
  },
  {
   "cell_type": "code",
   "execution_count": 45,
   "metadata": {},
   "outputs": [
    {
     "data": {
      "text/html": [
       "<div>\n",
       "<style scoped>\n",
       "    .dataframe tbody tr th:only-of-type {\n",
       "        vertical-align: middle;\n",
       "    }\n",
       "\n",
       "    .dataframe tbody tr th {\n",
       "        vertical-align: top;\n",
       "    }\n",
       "\n",
       "    .dataframe thead th {\n",
       "        text-align: right;\n",
       "    }\n",
       "</style>\n",
       "<table border=\"1\" class=\"dataframe\">\n",
       "  <thead>\n",
       "    <tr style=\"text-align: right;\">\n",
       "      <th></th>\n",
       "      <th>cluster</th>\n",
       "      <th>gender</th>\n",
       "      <th>Near_Location</th>\n",
       "      <th>Partner</th>\n",
       "      <th>Promo_friends</th>\n",
       "      <th>Phone</th>\n",
       "      <th>Contract_period</th>\n",
       "      <th>Group_visits</th>\n",
       "      <th>Age</th>\n",
       "      <th>Avg_additional_charges_total</th>\n",
       "      <th>Month_to_end_contract</th>\n",
       "      <th>Lifetime</th>\n",
       "      <th>Avg_class_frequency_total</th>\n",
       "      <th>Churn</th>\n",
       "    </tr>\n",
       "  </thead>\n",
       "  <tbody>\n",
       "    <tr>\n",
       "      <th>0</th>\n",
       "      <td>0</td>\n",
       "      <td>0.523316</td>\n",
       "      <td>0.862694</td>\n",
       "      <td>0.471503</td>\n",
       "      <td>0.305699</td>\n",
       "      <td>0.0</td>\n",
       "      <td>4.777202</td>\n",
       "      <td>0.427461</td>\n",
       "      <td>29.297927</td>\n",
       "      <td>144.208179</td>\n",
       "      <td>4.466321</td>\n",
       "      <td>3.940415</td>\n",
       "      <td>1.854211</td>\n",
       "      <td>0.266839</td>\n",
       "    </tr>\n",
       "    <tr>\n",
       "      <th>1</th>\n",
       "      <td>1</td>\n",
       "      <td>0.506089</td>\n",
       "      <td>0.932341</td>\n",
       "      <td>0.487145</td>\n",
       "      <td>0.000000</td>\n",
       "      <td>1.0</td>\n",
       "      <td>9.621110</td>\n",
       "      <td>0.499323</td>\n",
       "      <td>30.002706</td>\n",
       "      <td>163.264619</td>\n",
       "      <td>8.805142</td>\n",
       "      <td>4.594046</td>\n",
       "      <td>2.066730</td>\n",
       "      <td>0.039242</td>\n",
       "    </tr>\n",
       "    <tr>\n",
       "      <th>2</th>\n",
       "      <td>2</td>\n",
       "      <td>0.508907</td>\n",
       "      <td>1.000000</td>\n",
       "      <td>0.323040</td>\n",
       "      <td>0.233373</td>\n",
       "      <td>1.0</td>\n",
       "      <td>1.276128</td>\n",
       "      <td>0.371734</td>\n",
       "      <td>28.745249</td>\n",
       "      <td>139.034913</td>\n",
       "      <td>1.230998</td>\n",
       "      <td>3.170428</td>\n",
       "      <td>1.784057</td>\n",
       "      <td>0.401425</td>\n",
       "    </tr>\n",
       "    <tr>\n",
       "      <th>3</th>\n",
       "      <td>3</td>\n",
       "      <td>0.515373</td>\n",
       "      <td>0.988287</td>\n",
       "      <td>0.913616</td>\n",
       "      <td>1.000000</td>\n",
       "      <td>1.0</td>\n",
       "      <td>9.582723</td>\n",
       "      <td>0.556369</td>\n",
       "      <td>29.762811</td>\n",
       "      <td>158.817572</td>\n",
       "      <td>8.734993</td>\n",
       "      <td>4.705710</td>\n",
       "      <td>2.020678</td>\n",
       "      <td>0.043924</td>\n",
       "    </tr>\n",
       "    <tr>\n",
       "      <th>4</th>\n",
       "      <td>4</td>\n",
       "      <td>0.503937</td>\n",
       "      <td>0.000000</td>\n",
       "      <td>0.466535</td>\n",
       "      <td>0.078740</td>\n",
       "      <td>1.0</td>\n",
       "      <td>2.120079</td>\n",
       "      <td>0.214567</td>\n",
       "      <td>28.584646</td>\n",
       "      <td>135.533080</td>\n",
       "      <td>2.009843</td>\n",
       "      <td>2.814961</td>\n",
       "      <td>1.749144</td>\n",
       "      <td>0.438976</td>\n",
       "    </tr>\n",
       "  </tbody>\n",
       "</table>\n",
       "</div>"
      ],
      "text/plain": [
       "   cluster    gender  Near_Location   Partner  Promo_friends  Phone  \\\n",
       "0        0  0.523316       0.862694  0.471503       0.305699    0.0   \n",
       "1        1  0.506089       0.932341  0.487145       0.000000    1.0   \n",
       "2        2  0.508907       1.000000  0.323040       0.233373    1.0   \n",
       "3        3  0.515373       0.988287  0.913616       1.000000    1.0   \n",
       "4        4  0.503937       0.000000  0.466535       0.078740    1.0   \n",
       "\n",
       "   Contract_period  Group_visits        Age  Avg_additional_charges_total  \\\n",
       "0         4.777202      0.427461  29.297927                    144.208179   \n",
       "1         9.621110      0.499323  30.002706                    163.264619   \n",
       "2         1.276128      0.371734  28.745249                    139.034913   \n",
       "3         9.582723      0.556369  29.762811                    158.817572   \n",
       "4         2.120079      0.214567  28.584646                    135.533080   \n",
       "\n",
       "   Month_to_end_contract  Lifetime  Avg_class_frequency_total     Churn  \n",
       "0               4.466321  3.940415                   1.854211  0.266839  \n",
       "1               8.805142  4.594046                   2.066730  0.039242  \n",
       "2               1.230998  3.170428                   1.784057  0.401425  \n",
       "3               8.734993  4.705710                   2.020678  0.043924  \n",
       "4               2.009843  2.814961                   1.749144  0.438976  "
      ]
     },
     "execution_count": 45,
     "metadata": {},
     "output_type": "execute_result"
    }
   ],
   "source": [
    "df_grouped"
   ]
  },
  {
   "cell_type": "markdown",
   "metadata": {},
   "source": [
    "Total 5 clusters, from 0 to 4. Best results has cluster 3: highest Avg_additional_charges_total = 166, while others 136-144; Longest Month_to_end_contract\t- 10,6 (others from 2 to 4); and lowest Churn = 0,02. Cluster 1 and 2 has the highest mean in terms of near location = 0,99 and 1 respectively. The average age in all the clusters are almost the same - around 29 years."
   ]
  },
  {
   "cell_type": "markdown",
   "metadata": {},
   "source": [
    "#### Plot distributions of features for the clusters. Do you notice anything?"
   ]
  },
  {
   "cell_type": "code",
   "execution_count": 46,
   "metadata": {
    "scrolled": true
   },
   "outputs": [
    {
     "name": "stdout",
     "output_type": "stream",
     "text": [
      "<class 'pandas.core.frame.DataFrame'>\n",
      "RangeIndex: 4000 entries, 0 to 3999\n",
      "Data columns (total 14 columns):\n",
      " #   Column                        Non-Null Count  Dtype  \n",
      "---  ------                        --------------  -----  \n",
      " 0   gender                        4000 non-null   int64  \n",
      " 1   Near_Location                 4000 non-null   int64  \n",
      " 2   Partner                       4000 non-null   int64  \n",
      " 3   Promo_friends                 4000 non-null   int64  \n",
      " 4   Phone                         4000 non-null   int64  \n",
      " 5   Contract_period               4000 non-null   int64  \n",
      " 6   Group_visits                  4000 non-null   int64  \n",
      " 7   Age                           4000 non-null   int64  \n",
      " 8   Avg_additional_charges_total  4000 non-null   float64\n",
      " 9   Month_to_end_contract         4000 non-null   float64\n",
      " 10  Lifetime                      4000 non-null   int64  \n",
      " 11  Avg_class_frequency_total     4000 non-null   float64\n",
      " 12  Churn                         4000 non-null   int64  \n",
      " 13  cluster                       4000 non-null   int32  \n",
      "dtypes: float64(3), int32(1), int64(10)\n",
      "memory usage: 422.0 KB\n"
     ]
    }
   ],
   "source": [
    "df.info()"
   ]
  },
  {
   "cell_type": "code",
   "execution_count": 47,
   "metadata": {},
   "outputs": [
    {
     "data": {
      "text/html": [
       "<div>\n",
       "<style scoped>\n",
       "    .dataframe tbody tr th:only-of-type {\n",
       "        vertical-align: middle;\n",
       "    }\n",
       "\n",
       "    .dataframe tbody tr th {\n",
       "        vertical-align: top;\n",
       "    }\n",
       "\n",
       "    .dataframe thead th {\n",
       "        text-align: right;\n",
       "    }\n",
       "</style>\n",
       "<table border=\"1\" class=\"dataframe\">\n",
       "  <thead>\n",
       "    <tr style=\"text-align: right;\">\n",
       "      <th></th>\n",
       "      <th>gender</th>\n",
       "      <th>Near_Location</th>\n",
       "      <th>Partner</th>\n",
       "      <th>Promo_friends</th>\n",
       "      <th>Phone</th>\n",
       "      <th>Contract_period</th>\n",
       "      <th>Group_visits</th>\n",
       "      <th>Age</th>\n",
       "      <th>Avg_additional_charges_total</th>\n",
       "      <th>Month_to_end_contract</th>\n",
       "      <th>Lifetime</th>\n",
       "      <th>Avg_class_frequency_total</th>\n",
       "      <th>Churn</th>\n",
       "      <th>cluster</th>\n",
       "    </tr>\n",
       "  </thead>\n",
       "  <tbody>\n",
       "    <tr>\n",
       "      <th>0</th>\n",
       "      <td>1</td>\n",
       "      <td>1</td>\n",
       "      <td>1</td>\n",
       "      <td>1</td>\n",
       "      <td>0</td>\n",
       "      <td>6</td>\n",
       "      <td>1</td>\n",
       "      <td>29</td>\n",
       "      <td>14.227470</td>\n",
       "      <td>5.0</td>\n",
       "      <td>3</td>\n",
       "      <td>0.020398</td>\n",
       "      <td>0</td>\n",
       "      <td>0</td>\n",
       "    </tr>\n",
       "    <tr>\n",
       "      <th>1</th>\n",
       "      <td>0</td>\n",
       "      <td>1</td>\n",
       "      <td>0</td>\n",
       "      <td>0</td>\n",
       "      <td>1</td>\n",
       "      <td>12</td>\n",
       "      <td>1</td>\n",
       "      <td>31</td>\n",
       "      <td>113.202938</td>\n",
       "      <td>12.0</td>\n",
       "      <td>7</td>\n",
       "      <td>1.922936</td>\n",
       "      <td>0</td>\n",
       "      <td>1</td>\n",
       "    </tr>\n",
       "    <tr>\n",
       "      <th>2</th>\n",
       "      <td>0</td>\n",
       "      <td>1</td>\n",
       "      <td>1</td>\n",
       "      <td>0</td>\n",
       "      <td>1</td>\n",
       "      <td>1</td>\n",
       "      <td>0</td>\n",
       "      <td>28</td>\n",
       "      <td>129.448479</td>\n",
       "      <td>1.0</td>\n",
       "      <td>2</td>\n",
       "      <td>1.859098</td>\n",
       "      <td>0</td>\n",
       "      <td>2</td>\n",
       "    </tr>\n",
       "  </tbody>\n",
       "</table>\n",
       "</div>"
      ],
      "text/plain": [
       "   gender  Near_Location  Partner  Promo_friends  Phone  Contract_period  \\\n",
       "0       1              1        1              1      0                6   \n",
       "1       0              1        0              0      1               12   \n",
       "2       0              1        1              0      1                1   \n",
       "\n",
       "   Group_visits  Age  Avg_additional_charges_total  Month_to_end_contract  \\\n",
       "0             1   29                     14.227470                    5.0   \n",
       "1             1   31                    113.202938                   12.0   \n",
       "2             0   28                    129.448479                    1.0   \n",
       "\n",
       "   Lifetime  Avg_class_frequency_total  Churn  cluster  \n",
       "0         3                   0.020398      0        0  \n",
       "1         7                   1.922936      0        1  \n",
       "2         2                   1.859098      0        2  "
      ]
     },
     "execution_count": 47,
     "metadata": {},
     "output_type": "execute_result"
    }
   ],
   "source": [
    "df.head(3)"
   ]
  },
  {
   "cell_type": "code",
   "execution_count": 48,
   "metadata": {},
   "outputs": [
    {
     "name": "stdout",
     "output_type": "stream",
     "text": [
      "Distribution of continuous variables:\n"
     ]
    },
    {
     "data": {
      "image/png": "[encoded data removed]",
      "text/plain": [
       "<Figure size 864x864 with 4 Axes>"
      ]
     },
     "metadata": {
      "needs_background": "light"
     },
     "output_type": "display_data"
    }
   ],
   "source": [
    "count=1\n",
    "df_cont= df[['Avg_additional_charges_total', 'Age', 'Lifetime', 'Avg_class_frequency_total', 'Churn','cluster']]\n",
    "plt.subplots(figsize=(12, 12))\n",
    "for i in df_cont.drop(['Churn', 'cluster'],axis=1).columns:\n",
    "    if count > 12:\n",
    "        continue\n",
    "    else:\n",
    "        plt.subplot(2,2,count)\n",
    "        sns.histplot(data= df_cont, x= i, hue=\"cluster\", kde=True, palette=\"husl\")\n",
    "        plt.title('Cluster Distribution: {}'.format(str(i)))\n",
    "        count+=1\n",
    "print(\"Distribution of continuous variables:\")\n",
    "\n",
    "plt.tight_layout()\n",
    "plt.show()"
   ]
  },
  {
   "cell_type": "markdown",
   "metadata": {},
   "source": [
    "Age distributions for the clusters from 0 to 4 are normal, just cluster 3 has a peak age above 30 years. Average class frequency total is almost normally distributed for clusters. Average additional charges and lifetime are right skewed for all clusters."
   ]
  },
  {
   "cell_type": "markdown",
   "metadata": {},
   "source": [
    "#### Calculate the churn rate for each cluster (use the groupby() method). "
   ]
  },
  {
   "cell_type": "markdown",
   "metadata": {},
   "source": [
    "Do they differ in terms of churn rate? Which clusters are prone to leaving, and which are loyal?"
   ]
  },
  {
   "cell_type": "code",
   "execution_count": 49,
   "metadata": {},
   "outputs": [],
   "source": [
    "churn = df.query('Churn == 1')"
   ]
  },
  {
   "cell_type": "code",
   "execution_count": 50,
   "metadata": {},
   "outputs": [
    {
     "data": {
      "text/html": [
       "<div>\n",
       "<style scoped>\n",
       "    .dataframe tbody tr th:only-of-type {\n",
       "        vertical-align: middle;\n",
       "    }\n",
       "\n",
       "    .dataframe tbody tr th {\n",
       "        vertical-align: top;\n",
       "    }\n",
       "\n",
       "    .dataframe thead th {\n",
       "        text-align: right;\n",
       "    }\n",
       "</style>\n",
       "<table border=\"1\" class=\"dataframe\">\n",
       "  <thead>\n",
       "    <tr style=\"text-align: right;\">\n",
       "      <th></th>\n",
       "      <th>cluster</th>\n",
       "      <th>Churn</th>\n",
       "    </tr>\n",
       "  </thead>\n",
       "  <tbody>\n",
       "    <tr>\n",
       "      <th>0</th>\n",
       "      <td>0</td>\n",
       "      <td>0.266839</td>\n",
       "    </tr>\n",
       "    <tr>\n",
       "      <th>1</th>\n",
       "      <td>1</td>\n",
       "      <td>0.039242</td>\n",
       "    </tr>\n",
       "    <tr>\n",
       "      <th>2</th>\n",
       "      <td>2</td>\n",
       "      <td>0.401425</td>\n",
       "    </tr>\n",
       "    <tr>\n",
       "      <th>3</th>\n",
       "      <td>3</td>\n",
       "      <td>0.043924</td>\n",
       "    </tr>\n",
       "    <tr>\n",
       "      <th>4</th>\n",
       "      <td>4</td>\n",
       "      <td>0.438976</td>\n",
       "    </tr>\n",
       "  </tbody>\n",
       "</table>\n",
       "</div>"
      ],
      "text/plain": [
       "   cluster     Churn\n",
       "0        0  0.266839\n",
       "1        1  0.039242\n",
       "2        2  0.401425\n",
       "3        3  0.043924\n",
       "4        4  0.438976"
      ]
     },
     "execution_count": 50,
     "metadata": {},
     "output_type": "execute_result"
    }
   ],
   "source": [
    "(churn.groupby('cluster')['Churn'].count()/df.groupby('cluster')['Churn'].count())\\\n",
    ".reset_index() #.rename(columns={'cluster': 'clusters', 'Churn': 'churn rate'})"
   ]
  },
  {
   "cell_type": "markdown",
   "metadata": {},
   "source": [
    "Clasters are differ in terms of churn rate. 4 are prone to leaving, then goes 2, and after 0 and 1 with results cloes to each other. 3 is loyal."
   ]
  },
  {
   "cell_type": "markdown",
   "metadata": {},
   "source": [
    "## Conclusions and  recommendations on working with customers"
   ]
  },
  {
   "cell_type": "markdown",
   "metadata": {},
   "source": [
    "Draw conclusions and formulate recommendations regarding the strategy for customer interaction and retention.\n",
    "You don't need to go into detail. Three or four essential principles and examples of their implementation in the form of specific marketing steps will do."
   ]
  },
  {
   "cell_type": "markdown",
   "metadata": {},
   "source": [
    "### Conclusions"
   ]
  },
  {
   "cell_type": "markdown",
   "metadata": {},
   "source": [
    " - 85% of customers has Location near. At the same time, more than half of customers who has no near location churn, while less than half of those who located near to the gym churn.\n",
    " - Loyalty programms. Nearly half of customers, who is not a participant of a programms 'partner' or 'friend' - churn, share of non-churn customers between programms participants are significantly higher.\n",
    " - Length of contract. Share of customers who signed 1 month contract are more than those who signed 6 and 12 months contract, more than 70% of customers who sign 1 month contract churn. While less than 10% of customers who sign 12 months contract churn. \n",
    " - Older customers a little bit more loyal than younger\n",
    " - Gender has no affect\n",
    " - 5 clusters of customers\n",
    " - Overall churn rate is around 27%\n",
    " - Churn rates differ among clusters. 4 are prone to leaving, then goes 2, and after 0 and 1 with results cloes to each other. 3 is loyal."
   ]
  },
  {
   "cell_type": "markdown",
   "metadata": {},
   "source": [
    "### Recommendations"
   ]
  },
  {
   "cell_type": "markdown",
   "metadata": {},
   "source": [
    "- Focus on loyalty programms around nearest locations and attracting customers through them\n",
    "- Stimulate signing long-term contracts, probably also move from 1 month to 3 months contract\n",
    "- Analize additional characteristic of 3rd claster, what makes them stay\n",
    "- Analize gym services = for ex. is it just younger customers tend to churn more often, or gym is less attractive for them for some reason"
   ]
  }
 ],
 "metadata": {
  "ExecuteTimeLog": [
   {
    "duration": 491,
    "start_time": "2022-03-20T19:40:12.322Z"
   },
   {
    "duration": 1995,
    "start_time": "2022-03-20T19:40:36.113Z"
   },
   {
    "duration": 5,
    "start_time": "2022-03-20T19:40:41.394Z"
   },
   {
    "duration": 91,
    "start_time": "2022-03-20T19:41:25.720Z"
   },
   {
    "duration": 35,
    "start_time": "2022-03-20T19:41:28.790Z"
   },
   {
    "duration": 20,
    "start_time": "2022-03-20T19:41:54.169Z"
   },
   {
    "duration": 64,
    "start_time": "2022-03-20T19:42:48.095Z"
   },
   {
    "duration": 12,
    "start_time": "2022-03-20T19:43:04.983Z"
   },
   {
    "duration": 12,
    "start_time": "2022-03-20T19:47:52.617Z"
   },
   {
    "duration": 65,
    "start_time": "2022-03-20T19:47:56.153Z"
   },
   {
    "duration": 25,
    "start_time": "2022-03-20T19:51:18.350Z"
   },
   {
    "duration": 17,
    "start_time": "2022-03-20T19:51:59.343Z"
   },
   {
    "duration": 32,
    "start_time": "2022-03-20T19:53:58.694Z"
   },
   {
    "duration": 173,
    "start_time": "2022-03-20T19:55:12.372Z"
   },
   {
    "duration": 96,
    "start_time": "2022-03-20T19:56:33.613Z"
   },
   {
    "duration": 6,
    "start_time": "2022-03-20T19:56:39.414Z"
   },
   {
    "duration": 12,
    "start_time": "2022-03-20T19:56:46.046Z"
   },
   {
    "duration": 11,
    "start_time": "2022-03-20T19:56:58.803Z"
   },
   {
    "duration": 6,
    "start_time": "2022-03-20T19:57:41.249Z"
   },
   {
    "duration": 12,
    "start_time": "2022-03-20T19:57:48.713Z"
   },
   {
    "duration": 15,
    "start_time": "2022-03-20T19:57:56.130Z"
   },
   {
    "duration": 9,
    "start_time": "2022-03-20T19:58:29.943Z"
   },
   {
    "duration": 5,
    "start_time": "2022-03-20T19:58:35.699Z"
   },
   {
    "duration": 10,
    "start_time": "2022-03-20T19:58:36.431Z"
   },
   {
    "duration": 5,
    "start_time": "2022-03-20T19:58:37.746Z"
   },
   {
    "duration": 15,
    "start_time": "2022-03-20T19:58:38.386Z"
   },
   {
    "duration": 9,
    "start_time": "2022-03-20T20:00:59.539Z"
   },
   {
    "duration": 18,
    "start_time": "2022-03-20T20:01:00.880Z"
   },
   {
    "duration": 19,
    "start_time": "2022-03-20T20:01:17.823Z"
   },
   {
    "duration": 7,
    "start_time": "2022-03-20T20:01:33.143Z"
   },
   {
    "duration": 18,
    "start_time": "2022-03-20T20:01:33.695Z"
   },
   {
    "duration": 41,
    "start_time": "2022-03-20T20:02:35.404Z"
   },
   {
    "duration": 39,
    "start_time": "2022-03-20T20:02:45.859Z"
   },
   {
    "duration": 115,
    "start_time": "2022-03-20T20:10:29.648Z"
   },
   {
    "duration": 4,
    "start_time": "2022-03-20T20:15:02.297Z"
   },
   {
    "duration": 7,
    "start_time": "2022-03-20T20:15:38.885Z"
   },
   {
    "duration": 6,
    "start_time": "2022-03-20T20:15:42.985Z"
   },
   {
    "duration": 9,
    "start_time": "2022-03-20T20:15:45.418Z"
   },
   {
    "duration": 28,
    "start_time": "2022-03-20T20:15:50.461Z"
   },
   {
    "duration": 2094,
    "start_time": "2022-03-20T20:17:13.807Z"
   },
   {
    "duration": 2281,
    "start_time": "2022-03-20T20:18:05.199Z"
   },
   {
    "duration": 29,
    "start_time": "2022-03-20T20:18:24.244Z"
   },
   {
    "duration": 2004,
    "start_time": "2022-03-20T20:18:28.387Z"
   },
   {
    "duration": 29,
    "start_time": "2022-03-20T20:18:54.386Z"
   },
   {
    "duration": 2104,
    "start_time": "2022-03-20T20:19:05.576Z"
   },
   {
    "duration": 2901,
    "start_time": "2022-03-20T20:21:02.768Z"
   },
   {
    "duration": 2693,
    "start_time": "2022-03-20T20:21:42.033Z"
   },
   {
    "duration": 2806,
    "start_time": "2022-03-20T20:23:23.856Z"
   },
   {
    "duration": 29764,
    "start_time": "2022-03-20T20:28:17.623Z"
   },
   {
    "duration": 251,
    "start_time": "2022-03-20T20:28:48.482Z"
   },
   {
    "duration": 179,
    "start_time": "2022-03-20T20:29:05.099Z"
   },
   {
    "duration": 3037,
    "start_time": "2022-03-20T20:29:13.367Z"
   },
   {
    "duration": 239,
    "start_time": "2022-03-20T20:30:15.664Z"
   },
   {
    "duration": 3059,
    "start_time": "2022-03-20T20:30:27.617Z"
   },
   {
    "duration": 3125,
    "start_time": "2022-03-20T20:40:30.037Z"
   },
   {
    "duration": 2823,
    "start_time": "2022-03-20T20:42:03.874Z"
   },
   {
    "duration": 2568,
    "start_time": "2022-03-20T20:43:07.130Z"
   },
   {
    "duration": 2993,
    "start_time": "2022-03-20T20:43:31.454Z"
   },
   {
    "duration": 7558,
    "start_time": "2022-03-20T20:43:57.825Z"
   },
   {
    "duration": 3142,
    "start_time": "2022-03-20T20:44:36.625Z"
   },
   {
    "duration": 230,
    "start_time": "2022-03-20T20:46:30.339Z"
   },
   {
    "duration": 0,
    "start_time": "2022-03-20T20:50:12.396Z"
   },
   {
    "duration": 0,
    "start_time": "2022-03-20T20:51:05.345Z"
   },
   {
    "duration": 13912,
    "start_time": "2022-03-20T20:51:16.941Z"
   },
   {
    "duration": 0,
    "start_time": "2022-03-20T20:51:30.855Z"
   },
   {
    "duration": 13501,
    "start_time": "2022-03-20T20:52:33.375Z"
   },
   {
    "duration": 12716,
    "start_time": "2022-03-20T20:53:02.876Z"
   },
   {
    "duration": 3544,
    "start_time": "2022-03-20T20:53:20.882Z"
   },
   {
    "duration": 15148,
    "start_time": "2022-03-20T20:53:52.923Z"
   },
   {
    "duration": 24,
    "start_time": "2022-03-20T20:55:33.307Z"
   },
   {
    "duration": 2702,
    "start_time": "2022-03-20T20:57:12.700Z"
   },
   {
    "duration": 229,
    "start_time": "2022-03-20T20:57:34.317Z"
   },
   {
    "duration": 15,
    "start_time": "2022-03-20T20:59:23.436Z"
   },
   {
    "duration": 19,
    "start_time": "2022-03-20T20:59:29.547Z"
   },
   {
    "duration": 201,
    "start_time": "2022-03-20T20:59:57.161Z"
   },
   {
    "duration": 2924,
    "start_time": "2022-03-20T21:00:10.567Z"
   },
   {
    "duration": 17,
    "start_time": "2022-03-20T21:00:38.798Z"
   },
   {
    "duration": 2769,
    "start_time": "2022-03-20T21:00:54.285Z"
   },
   {
    "duration": 3,
    "start_time": "2022-03-20T21:01:15.623Z"
   },
   {
    "duration": 3,
    "start_time": "2022-03-20T21:01:24.476Z"
   },
   {
    "duration": 16896,
    "start_time": "2022-03-20T21:01:35.984Z"
   },
   {
    "duration": 442,
    "start_time": "2022-03-22T14:29:48.516Z"
   },
   {
    "duration": 1902,
    "start_time": "2022-03-22T14:29:48.960Z"
   },
   {
    "duration": 3,
    "start_time": "2022-03-22T14:29:50.864Z"
   },
   {
    "duration": 299,
    "start_time": "2022-03-22T14:29:50.869Z"
   },
   {
    "duration": 23,
    "start_time": "2022-03-22T14:29:51.170Z"
   },
   {
    "duration": 12,
    "start_time": "2022-03-22T14:29:51.195Z"
   },
   {
    "duration": 8,
    "start_time": "2022-03-22T14:29:51.209Z"
   },
   {
    "duration": 44,
    "start_time": "2022-03-22T14:29:51.219Z"
   },
   {
    "duration": 12,
    "start_time": "2022-03-22T14:29:51.265Z"
   },
   {
    "duration": 8,
    "start_time": "2022-03-22T14:29:51.278Z"
   },
   {
    "duration": 9,
    "start_time": "2022-03-22T14:29:51.288Z"
   },
   {
    "duration": 13,
    "start_time": "2022-03-22T14:29:51.298Z"
   },
   {
    "duration": 7,
    "start_time": "2022-03-22T14:29:51.331Z"
   },
   {
    "duration": 13,
    "start_time": "2022-03-22T14:29:51.341Z"
   },
   {
    "duration": 16,
    "start_time": "2022-03-22T14:29:51.357Z"
   },
   {
    "duration": 10425,
    "start_time": "2022-03-22T14:29:51.375Z"
   },
   {
    "duration": 5,
    "start_time": "2022-03-22T14:30:01.802Z"
   },
   {
    "duration": 21,
    "start_time": "2022-03-22T14:30:01.809Z"
   },
   {
    "duration": 35,
    "start_time": "2022-03-22T14:30:01.832Z"
   },
   {
    "duration": 22,
    "start_time": "2022-03-22T14:30:01.869Z"
   },
   {
    "duration": 35,
    "start_time": "2022-03-22T14:30:01.893Z"
   },
   {
    "duration": 1704,
    "start_time": "2022-03-22T14:30:01.930Z"
   },
   {
    "duration": 1963,
    "start_time": "2022-03-22T14:30:03.635Z"
   },
   {
    "duration": 4,
    "start_time": "2022-03-22T14:30:05.599Z"
   },
   {
    "duration": 28,
    "start_time": "2022-03-22T14:30:05.605Z"
   },
   {
    "duration": 1714,
    "start_time": "2022-03-22T14:30:05.635Z"
   },
   {
    "duration": 6,
    "start_time": "2022-03-22T14:30:07.350Z"
   },
   {
    "duration": 26,
    "start_time": "2022-03-22T14:30:07.358Z"
   },
   {
    "duration": 1488,
    "start_time": "2022-03-22T14:30:07.385Z"
   },
   {
    "duration": 14,
    "start_time": "2022-03-22T14:30:18.848Z"
   },
   {
    "duration": 2,
    "start_time": "2022-03-22T14:30:40.975Z"
   },
   {
    "duration": 3,
    "start_time": "2022-03-22T14:32:36.541Z"
   },
   {
    "duration": 110,
    "start_time": "2022-03-22T14:33:47.573Z"
   },
   {
    "duration": 8,
    "start_time": "2022-03-22T14:33:59.848Z"
   },
   {
    "duration": 187,
    "start_time": "2022-03-22T14:39:43.324Z"
   },
   {
    "duration": 3548,
    "start_time": "2022-03-22T14:40:17.771Z"
   },
   {
    "duration": 3884,
    "start_time": "2022-03-22T14:40:29.108Z"
   },
   {
    "duration": 3817,
    "start_time": "2022-03-22T14:40:38.227Z"
   },
   {
    "duration": 3074,
    "start_time": "2022-03-22T14:41:26.555Z"
   },
   {
    "duration": 3909,
    "start_time": "2022-03-22T14:42:04.986Z"
   },
   {
    "duration": 3618,
    "start_time": "2022-03-22T14:42:28.386Z"
   },
   {
    "duration": 3707,
    "start_time": "2022-03-22T14:42:42.404Z"
   },
   {
    "duration": 3520,
    "start_time": "2022-03-22T14:42:51.882Z"
   },
   {
    "duration": 4036,
    "start_time": "2022-03-22T14:43:12.673Z"
   },
   {
    "duration": 19,
    "start_time": "2022-03-22T14:43:26.131Z"
   },
   {
    "duration": 2,
    "start_time": "2022-03-22T14:44:02.150Z"
   },
   {
    "duration": 11,
    "start_time": "2022-03-22T14:49:12.843Z"
   },
   {
    "duration": 16,
    "start_time": "2022-03-22T14:49:25.624Z"
   },
   {
    "duration": 15,
    "start_time": "2022-03-22T14:49:34.312Z"
   },
   {
    "duration": 15,
    "start_time": "2022-03-22T14:49:40.835Z"
   },
   {
    "duration": 15,
    "start_time": "2022-03-22T14:49:50.047Z"
   },
   {
    "duration": 13,
    "start_time": "2022-03-22T14:49:54.752Z"
   },
   {
    "duration": 15,
    "start_time": "2022-03-22T14:49:59.243Z"
   },
   {
    "duration": 15,
    "start_time": "2022-03-22T14:51:24.318Z"
   },
   {
    "duration": 10,
    "start_time": "2022-03-22T15:23:07.674Z"
   },
   {
    "duration": 27,
    "start_time": "2022-03-22T15:24:00.379Z"
   },
   {
    "duration": 3,
    "start_time": "2022-03-22T15:24:07.601Z"
   },
   {
    "duration": 969,
    "start_time": "2022-03-22T15:24:13.468Z"
   },
   {
    "duration": 3,
    "start_time": "2022-03-22T15:24:38.960Z"
   },
   {
    "duration": 800,
    "start_time": "2022-03-22T15:24:50.739Z"
   },
   {
    "duration": 116,
    "start_time": "2022-03-22T15:27:06.018Z"
   },
   {
    "duration": 5,
    "start_time": "2022-03-22T15:27:18.796Z"
   },
   {
    "duration": 7,
    "start_time": "2022-03-22T15:27:27.339Z"
   },
   {
    "duration": 5,
    "start_time": "2022-03-22T15:28:51.406Z"
   },
   {
    "duration": 9,
    "start_time": "2022-03-22T15:28:51.949Z"
   },
   {
    "duration": 9,
    "start_time": "2022-03-22T15:29:03.273Z"
   },
   {
    "duration": 13,
    "start_time": "2022-03-22T15:29:24.666Z"
   },
   {
    "duration": 4,
    "start_time": "2022-03-22T15:30:10.373Z"
   },
   {
    "duration": 14,
    "start_time": "2022-03-22T15:30:10.955Z"
   },
   {
    "duration": 2,
    "start_time": "2022-03-22T15:30:59.809Z"
   },
   {
    "duration": 41,
    "start_time": "2022-03-22T15:31:00.399Z"
   },
   {
    "duration": 6,
    "start_time": "2022-03-22T15:31:01.022Z"
   },
   {
    "duration": 6,
    "start_time": "2022-03-22T15:31:01.636Z"
   },
   {
    "duration": 3,
    "start_time": "2022-03-22T15:31:03.273Z"
   },
   {
    "duration": 13,
    "start_time": "2022-03-22T15:31:04.004Z"
   },
   {
    "duration": 3,
    "start_time": "2022-03-22T15:31:53.450Z"
   },
   {
    "duration": 70,
    "start_time": "2022-03-22T15:31:53.873Z"
   },
   {
    "duration": 5,
    "start_time": "2022-03-22T15:31:54.355Z"
   },
   {
    "duration": 8,
    "start_time": "2022-03-22T15:31:54.948Z"
   },
   {
    "duration": 16,
    "start_time": "2022-03-22T15:32:45.804Z"
   },
   {
    "duration": 9,
    "start_time": "2022-03-22T15:33:13.986Z"
   },
   {
    "duration": 4,
    "start_time": "2022-03-22T15:34:54.499Z"
   },
   {
    "duration": 2,
    "start_time": "2022-03-22T15:34:55.526Z"
   },
   {
    "duration": 5,
    "start_time": "2022-03-22T15:34:56.549Z"
   },
   {
    "duration": 19,
    "start_time": "2022-03-22T15:34:56.880Z"
   },
   {
    "duration": 1462,
    "start_time": "2022-03-22T15:34:57.123Z"
   },
   {
    "duration": 6,
    "start_time": "2022-03-22T15:34:58.587Z"
   },
   {
    "duration": 22,
    "start_time": "2022-03-22T15:34:58.594Z"
   },
   {
    "duration": 1421,
    "start_time": "2022-03-22T15:34:58.631Z"
   },
   {
    "duration": 15,
    "start_time": "2022-03-22T15:35:00.054Z"
   },
   {
    "duration": 3,
    "start_time": "2022-03-22T15:35:01.336Z"
   },
   {
    "duration": 129,
    "start_time": "2022-03-22T15:35:03.304Z"
   },
   {
    "duration": 9,
    "start_time": "2022-03-22T15:35:03.877Z"
   },
   {
    "duration": 14,
    "start_time": "2022-03-22T15:35:04.657Z"
   },
   {
    "duration": 8,
    "start_time": "2022-03-22T15:35:06.717Z"
   },
   {
    "duration": 9,
    "start_time": "2022-03-22T15:35:21.519Z"
   },
   {
    "duration": 4120,
    "start_time": "2022-03-22T15:37:16.614Z"
   },
   {
    "duration": 4135,
    "start_time": "2022-03-22T15:37:20.736Z"
   },
   {
    "duration": 21,
    "start_time": "2022-03-22T15:37:24.873Z"
   },
   {
    "duration": 1020,
    "start_time": "2022-03-22T15:37:24.897Z"
   },
   {
    "duration": 6345,
    "start_time": "2022-03-22T15:37:25.920Z"
   },
   {
    "duration": 5019,
    "start_time": "2022-03-22T15:37:32.267Z"
   },
   {
    "duration": 7271,
    "start_time": "2022-03-22T15:37:37.287Z"
   },
   {
    "duration": 3279,
    "start_time": "2022-03-22T15:37:44.560Z"
   },
   {
    "duration": 8842,
    "start_time": "2022-03-22T15:37:47.841Z"
   },
   {
    "duration": 6598,
    "start_time": "2022-03-22T15:37:56.685Z"
   },
   {
    "duration": 1715,
    "start_time": "2022-03-22T15:38:03.286Z"
   },
   {
    "duration": 910,
    "start_time": "2022-03-22T15:38:05.003Z"
   },
   {
    "duration": 304,
    "start_time": "2022-03-22T15:38:05.914Z"
   },
   {
    "duration": 275,
    "start_time": "2022-03-22T15:38:06.220Z"
   },
   {
    "duration": 1284,
    "start_time": "2022-03-22T15:38:06.498Z"
   },
   {
    "duration": 6751,
    "start_time": "2022-03-22T15:38:07.785Z"
   },
   {
    "duration": 6605,
    "start_time": "2022-03-22T15:38:14.539Z"
   },
   {
    "duration": 5692,
    "start_time": "2022-03-22T15:38:21.146Z"
   },
   {
    "duration": 8301,
    "start_time": "2022-03-22T15:38:26.840Z"
   },
   {
    "duration": 15269,
    "start_time": "2022-03-22T15:38:35.143Z"
   },
   {
    "duration": 7034,
    "start_time": "2022-03-22T15:38:50.413Z"
   },
   {
    "duration": 11413,
    "start_time": "2022-03-22T15:38:57.449Z"
   },
   {
    "duration": 7827,
    "start_time": "2022-03-22T15:39:08.864Z"
   },
   {
    "duration": 4,
    "start_time": "2022-03-22T15:39:16.693Z"
   },
   {
    "duration": 1324,
    "start_time": "2022-03-22T15:39:16.698Z"
   },
   {
    "duration": 26,
    "start_time": "2022-03-22T15:39:18.024Z"
   },
   {
    "duration": 57,
    "start_time": "2022-03-22T15:39:18.053Z"
   },
   {
    "duration": 1678,
    "start_time": "2022-03-22T15:39:18.114Z"
   },
   {
    "duration": 5,
    "start_time": "2022-03-22T15:39:19.793Z"
   },
   {
    "duration": 631,
    "start_time": "2022-03-22T15:39:19.800Z"
   },
   {
    "duration": 2875,
    "start_time": "2022-03-22T15:39:20.433Z"
   },
   {
    "duration": 13,
    "start_time": "2022-03-22T15:39:23.310Z"
   },
   {
    "duration": 401,
    "start_time": "2022-03-22T15:39:23.324Z"
   },
   {
    "duration": 906,
    "start_time": "2022-03-22T15:39:23.727Z"
   },
   {
    "duration": 249,
    "start_time": "2022-03-22T15:39:24.636Z"
   },
   {
    "duration": 567,
    "start_time": "2022-03-22T15:39:24.887Z"
   },
   {
    "duration": 697,
    "start_time": "2022-03-22T15:39:25.457Z"
   },
   {
    "duration": 922,
    "start_time": "2022-03-22T15:39:26.156Z"
   },
   {
    "duration": 5407,
    "start_time": "2022-03-22T15:39:27.080Z"
   },
   {
    "duration": 16,
    "start_time": "2022-03-22T15:41:25.374Z"
   },
   {
    "duration": 10,
    "start_time": "2022-03-22T15:41:32.414Z"
   },
   {
    "duration": 12,
    "start_time": "2022-03-22T15:41:59.878Z"
   },
   {
    "duration": 7331,
    "start_time": "2022-03-22T15:42:04.109Z"
   },
   {
    "duration": 1480,
    "start_time": "2022-03-22T15:42:12.489Z"
   },
   {
    "duration": 576,
    "start_time": "2022-03-22T15:42:14.501Z"
   },
   {
    "duration": 1555,
    "start_time": "2022-03-22T15:42:15.079Z"
   },
   {
    "duration": 1225,
    "start_time": "2022-03-22T15:42:16.637Z"
   },
   {
    "duration": 6,
    "start_time": "2022-03-22T15:42:18.417Z"
   },
   {
    "duration": 8,
    "start_time": "2022-03-22T15:42:21.839Z"
   },
   {
    "duration": 13,
    "start_time": "2022-03-22T15:42:55.082Z"
   },
   {
    "duration": 3,
    "start_time": "2022-03-22T15:42:59.293Z"
   },
   {
    "duration": 146,
    "start_time": "2022-03-22T15:43:02.886Z"
   },
   {
    "duration": 6,
    "start_time": "2022-03-22T15:43:03.616Z"
   },
   {
    "duration": 6,
    "start_time": "2022-03-22T15:43:04.517Z"
   },
   {
    "duration": 9,
    "start_time": "2022-03-22T15:43:07.252Z"
   },
   {
    "duration": 301,
    "start_time": "2022-03-22T15:45:16.638Z"
   },
   {
    "duration": 14,
    "start_time": "2022-03-22T15:45:39.262Z"
   },
   {
    "duration": 3,
    "start_time": "2022-03-22T15:46:14.699Z"
   },
   {
    "duration": 153,
    "start_time": "2022-03-22T15:46:15.179Z"
   },
   {
    "duration": 8,
    "start_time": "2022-03-22T15:46:15.594Z"
   },
   {
    "duration": 6,
    "start_time": "2022-03-22T15:46:15.935Z"
   },
   {
    "duration": 7,
    "start_time": "2022-03-22T15:46:17.771Z"
   },
   {
    "duration": 14,
    "start_time": "2022-03-22T15:46:33.434Z"
   },
   {
    "duration": 14,
    "start_time": "2022-03-22T15:46:42.893Z"
   },
   {
    "duration": 12,
    "start_time": "2022-03-22T15:46:57.283Z"
   },
   {
    "duration": 2,
    "start_time": "2022-03-22T15:47:00.869Z"
   },
   {
    "duration": 69,
    "start_time": "2022-03-22T15:47:01.371Z"
   },
   {
    "duration": 9,
    "start_time": "2022-03-22T15:47:01.875Z"
   },
   {
    "duration": 7,
    "start_time": "2022-03-22T15:47:02.304Z"
   },
   {
    "duration": 8,
    "start_time": "2022-03-22T15:47:03.925Z"
   },
   {
    "duration": 3,
    "start_time": "2022-03-22T15:47:41.646Z"
   },
   {
    "duration": 86,
    "start_time": "2022-03-22T15:47:42.656Z"
   },
   {
    "duration": 8,
    "start_time": "2022-03-22T15:47:42.834Z"
   },
   {
    "duration": 5,
    "start_time": "2022-03-22T15:47:44.622Z"
   },
   {
    "duration": 9,
    "start_time": "2022-03-22T15:47:45.655Z"
   },
   {
    "duration": 5,
    "start_time": "2022-03-22T15:48:22.446Z"
   },
   {
    "duration": 5,
    "start_time": "2022-03-22T15:48:23.299Z"
   },
   {
    "duration": 8,
    "start_time": "2022-03-22T15:48:25.217Z"
   },
   {
    "duration": 2,
    "start_time": "2022-03-22T15:48:42.882Z"
   },
   {
    "duration": 65,
    "start_time": "2022-03-22T15:48:43.474Z"
   },
   {
    "duration": 7,
    "start_time": "2022-03-22T15:48:44.133Z"
   },
   {
    "duration": 5,
    "start_time": "2022-03-22T15:48:44.642Z"
   },
   {
    "duration": 8,
    "start_time": "2022-03-22T15:48:46.736Z"
   },
   {
    "duration": 12,
    "start_time": "2022-03-22T15:49:10.272Z"
   },
   {
    "duration": 7,
    "start_time": "2022-03-22T15:49:28.647Z"
   },
   {
    "duration": 4,
    "start_time": "2022-03-22T15:49:29.238Z"
   },
   {
    "duration": 8,
    "start_time": "2022-03-22T15:49:31.288Z"
   },
   {
    "duration": 4,
    "start_time": "2022-03-22T15:51:37.516Z"
   },
   {
    "duration": 12,
    "start_time": "2022-03-22T15:51:40.013Z"
   },
   {
    "duration": 452,
    "start_time": "2022-03-22T15:54:55.218Z"
   },
   {
    "duration": 336,
    "start_time": "2022-03-22T15:55:00.076Z"
   },
   {
    "duration": 13,
    "start_time": "2022-03-22T15:55:39.448Z"
   },
   {
    "duration": 15,
    "start_time": "2022-03-22T15:56:01.428Z"
   },
   {
    "duration": 7,
    "start_time": "2022-03-22T15:56:18.163Z"
   },
   {
    "duration": 8,
    "start_time": "2022-03-22T15:56:31.578Z"
   },
   {
    "duration": 223,
    "start_time": "2022-03-22T15:57:59.588Z"
   },
   {
    "duration": 2,
    "start_time": "2022-03-22T15:59:07.644Z"
   },
   {
    "duration": 8,
    "start_time": "2022-03-22T15:59:55.470Z"
   },
   {
    "duration": 649,
    "start_time": "2022-03-22T16:01:41.730Z"
   },
   {
    "duration": 122273,
    "start_time": "2022-03-22T16:02:08.659Z"
   },
   {
    "duration": 406,
    "start_time": "2022-03-22T21:10:47.519Z"
   },
   {
    "duration": 1367,
    "start_time": "2022-03-22T21:10:47.928Z"
   },
   {
    "duration": 27,
    "start_time": "2022-03-22T21:10:49.297Z"
   },
   {
    "duration": 2,
    "start_time": "2022-03-22T21:10:49.327Z"
   },
   {
    "duration": 31,
    "start_time": "2022-03-22T21:10:49.331Z"
   },
   {
    "duration": 20,
    "start_time": "2022-03-22T21:10:49.364Z"
   },
   {
    "duration": 11,
    "start_time": "2022-03-22T21:10:49.386Z"
   },
   {
    "duration": 11,
    "start_time": "2022-03-22T21:10:49.399Z"
   },
   {
    "duration": 53,
    "start_time": "2022-03-22T21:10:49.411Z"
   },
   {
    "duration": 10,
    "start_time": "2022-03-22T21:10:49.466Z"
   },
   {
    "duration": 10,
    "start_time": "2022-03-22T21:10:49.477Z"
   },
   {
    "duration": 6,
    "start_time": "2022-03-22T21:10:49.488Z"
   },
   {
    "duration": 14,
    "start_time": "2022-03-22T21:10:49.495Z"
   },
   {
    "duration": 8,
    "start_time": "2022-03-22T21:10:49.513Z"
   },
   {
    "duration": 41,
    "start_time": "2022-03-22T21:10:49.523Z"
   },
   {
    "duration": 6,
    "start_time": "2022-03-22T21:10:49.565Z"
   },
   {
    "duration": 16,
    "start_time": "2022-03-22T21:10:49.572Z"
   },
   {
    "duration": 18,
    "start_time": "2022-03-22T21:10:49.591Z"
   },
   {
    "duration": 5,
    "start_time": "2022-03-22T21:10:49.610Z"
   },
   {
    "duration": 3171,
    "start_time": "2022-03-22T21:10:49.616Z"
   },
   {
    "duration": 6,
    "start_time": "2022-03-22T21:10:52.789Z"
   },
   {
    "duration": 20,
    "start_time": "2022-03-22T21:10:52.797Z"
   },
   {
    "duration": 2073,
    "start_time": "2022-03-22T21:10:52.819Z"
   },
   {
    "duration": 6,
    "start_time": "2022-03-22T21:10:54.894Z"
   },
   {
    "duration": 17,
    "start_time": "2022-03-22T21:10:54.902Z"
   },
   {
    "duration": 23,
    "start_time": "2022-03-22T21:10:54.921Z"
   },
   {
    "duration": 35,
    "start_time": "2022-03-22T21:10:54.946Z"
   },
   {
    "duration": 2062,
    "start_time": "2022-03-22T21:10:54.983Z"
   },
   {
    "duration": 16,
    "start_time": "2022-03-22T21:10:57.047Z"
   },
   {
    "duration": 28,
    "start_time": "2022-03-22T21:10:57.065Z"
   },
   {
    "duration": 1235,
    "start_time": "2022-03-22T21:10:57.095Z"
   },
   {
    "duration": 12,
    "start_time": "2022-03-22T21:10:58.332Z"
   },
   {
    "duration": 27,
    "start_time": "2022-03-22T21:10:58.346Z"
   },
   {
    "duration": 13,
    "start_time": "2022-03-22T21:10:58.375Z"
   },
   {
    "duration": 3,
    "start_time": "2022-03-22T21:10:58.390Z"
   },
   {
    "duration": 169,
    "start_time": "2022-03-22T21:10:58.395Z"
   },
   {
    "duration": 6,
    "start_time": "2022-03-22T21:10:58.567Z"
   },
   {
    "duration": 9,
    "start_time": "2022-03-22T21:10:58.663Z"
   },
   {
    "duration": 575,
    "start_time": "2022-03-22T21:10:58.674Z"
   },
   {
    "duration": 14,
    "start_time": "2022-03-22T21:10:59.251Z"
   },
   {
    "duration": 8,
    "start_time": "2022-03-22T21:10:59.269Z"
   },
   {
    "duration": 3,
    "start_time": "2022-03-22T21:10:59.279Z"
   },
   {
    "duration": 14,
    "start_time": "2022-03-22T21:10:59.284Z"
   },
   {
    "duration": 10,
    "start_time": "2022-03-22T21:10:59.300Z"
   },
   {
    "duration": 7,
    "start_time": "2022-03-22T21:10:59.311Z"
   },
   {
    "duration": 632,
    "start_time": "2022-03-22T21:10:59.319Z"
   },
   {
    "duration": 101417,
    "start_time": "2022-03-22T21:10:59.952Z"
   },
   {
    "duration": 149,
    "start_time": "2022-03-22T21:14:30.085Z"
   },
   {
    "duration": 109,
    "start_time": "2022-03-22T21:14:59.441Z"
   },
   {
    "duration": 1321,
    "start_time": "2022-03-22T21:15:25.160Z"
   },
   {
    "duration": 8,
    "start_time": "2022-03-22T21:18:29.708Z"
   },
   {
    "duration": 14,
    "start_time": "2022-03-22T21:18:31.677Z"
   },
   {
    "duration": 11,
    "start_time": "2022-03-22T21:32:31.634Z"
   },
   {
    "duration": 16,
    "start_time": "2022-03-22T21:32:50.279Z"
   },
   {
    "duration": 126,
    "start_time": "2022-03-22T21:38:02.686Z"
   },
   {
    "duration": 2543,
    "start_time": "2022-03-22T21:38:18.329Z"
   },
   {
    "duration": 2284,
    "start_time": "2022-03-22T21:39:36.109Z"
   },
   {
    "duration": 2099,
    "start_time": "2022-03-22T21:40:25.898Z"
   },
   {
    "duration": 2603,
    "start_time": "2022-03-22T21:42:02.703Z"
   },
   {
    "duration": 1192,
    "start_time": "2022-03-22T21:42:11.461Z"
   },
   {
    "duration": 3004,
    "start_time": "2022-03-22T21:44:10.152Z"
   },
   {
    "duration": 2853,
    "start_time": "2022-03-22T21:46:07.015Z"
   },
   {
    "duration": 2821,
    "start_time": "2022-03-22T21:53:04.294Z"
   },
   {
    "duration": 3251,
    "start_time": "2022-03-22T21:53:28.535Z"
   },
   {
    "duration": 3325,
    "start_time": "2022-03-22T21:53:58.771Z"
   },
   {
    "duration": 10,
    "start_time": "2022-03-22T22:03:29.000Z"
   },
   {
    "duration": 11,
    "start_time": "2022-03-22T22:03:33.789Z"
   },
   {
    "duration": 10,
    "start_time": "2022-03-22T22:03:34.566Z"
   },
   {
    "duration": 5,
    "start_time": "2022-03-22T22:03:45.964Z"
   },
   {
    "duration": 11,
    "start_time": "2022-03-22T22:03:46.556Z"
   },
   {
    "duration": 12,
    "start_time": "2022-03-22T22:04:06.836Z"
   },
   {
    "duration": 8,
    "start_time": "2022-03-22T22:04:30.228Z"
   },
   {
    "duration": 20,
    "start_time": "2022-03-22T22:04:46.774Z"
   },
   {
    "duration": 18,
    "start_time": "2022-03-22T22:04:59.243Z"
   },
   {
    "duration": 165,
    "start_time": "2022-03-22T22:05:07.728Z"
   },
   {
    "duration": 137,
    "start_time": "2022-03-22T22:05:19.928Z"
   },
   {
    "duration": 143,
    "start_time": "2022-03-22T22:05:34.855Z"
   },
   {
    "duration": 12,
    "start_time": "2022-03-22T22:06:09.758Z"
   },
   {
    "duration": 9,
    "start_time": "2022-03-22T22:06:50.892Z"
   },
   {
    "duration": 378,
    "start_time": "2022-03-23T08:20:08.450Z"
   },
   {
    "duration": 1126,
    "start_time": "2022-03-23T08:20:08.830Z"
   },
   {
    "duration": 19,
    "start_time": "2022-03-23T08:20:09.958Z"
   },
   {
    "duration": 3,
    "start_time": "2022-03-23T08:20:09.978Z"
   },
   {
    "duration": 61,
    "start_time": "2022-03-23T08:20:09.983Z"
   },
   {
    "duration": 22,
    "start_time": "2022-03-23T08:20:10.046Z"
   },
   {
    "duration": 11,
    "start_time": "2022-03-23T08:20:10.070Z"
   },
   {
    "duration": 8,
    "start_time": "2022-03-23T08:20:10.083Z"
   },
   {
    "duration": 44,
    "start_time": "2022-03-23T08:20:10.092Z"
   },
   {
    "duration": 10,
    "start_time": "2022-03-23T08:20:10.138Z"
   },
   {
    "duration": 10,
    "start_time": "2022-03-23T08:20:10.150Z"
   },
   {
    "duration": 5,
    "start_time": "2022-03-23T08:20:10.162Z"
   },
   {
    "duration": 15,
    "start_time": "2022-03-23T08:20:10.169Z"
   },
   {
    "duration": 5,
    "start_time": "2022-03-23T08:20:10.209Z"
   },
   {
    "duration": 15,
    "start_time": "2022-03-23T08:20:10.216Z"
   },
   {
    "duration": 15,
    "start_time": "2022-03-23T08:20:10.232Z"
   },
   {
    "duration": 15,
    "start_time": "2022-03-23T08:20:10.248Z"
   },
   {
    "duration": 12,
    "start_time": "2022-03-23T08:20:10.264Z"
   },
   {
    "duration": 8,
    "start_time": "2022-03-23T08:20:10.278Z"
   },
   {
    "duration": 3522,
    "start_time": "2022-03-23T08:20:10.287Z"
   },
   {
    "duration": 6,
    "start_time": "2022-03-23T08:20:13.810Z"
   },
   {
    "duration": 19,
    "start_time": "2022-03-23T08:20:13.817Z"
   },
   {
    "duration": 1518,
    "start_time": "2022-03-23T08:20:13.838Z"
   },
   {
    "duration": 5,
    "start_time": "2022-03-23T08:20:15.357Z"
   },
   {
    "duration": 5,
    "start_time": "2022-03-23T08:20:15.363Z"
   },
   {
    "duration": 8,
    "start_time": "2022-03-23T08:20:15.369Z"
   },
   {
    "duration": 35,
    "start_time": "2022-03-23T08:20:15.379Z"
   },
   {
    "duration": 1492,
    "start_time": "2022-03-23T08:20:15.416Z"
   },
   {
    "duration": 5,
    "start_time": "2022-03-23T08:20:16.910Z"
   },
   {
    "duration": 20,
    "start_time": "2022-03-23T08:20:16.917Z"
   },
   {
    "duration": 1394,
    "start_time": "2022-03-23T08:20:16.939Z"
   },
   {
    "duration": 11,
    "start_time": "2022-03-23T08:20:18.336Z"
   },
   {
    "duration": 12,
    "start_time": "2022-03-23T08:20:18.349Z"
   },
   {
    "duration": 13,
    "start_time": "2022-03-23T08:20:18.363Z"
   },
   {
    "duration": 3,
    "start_time": "2022-03-23T08:20:18.377Z"
   },
   {
    "duration": 327,
    "start_time": "2022-03-23T08:20:18.381Z"
   },
   {
    "duration": 5,
    "start_time": "2022-03-23T08:20:18.711Z"
   },
   {
    "duration": 10,
    "start_time": "2022-03-23T08:20:18.808Z"
   },
   {
    "duration": 450,
    "start_time": "2022-03-23T08:20:18.910Z"
   },
   {
    "duration": 9,
    "start_time": "2022-03-23T08:20:19.362Z"
   },
   {
    "duration": 9,
    "start_time": "2022-03-23T08:20:19.374Z"
   },
   {
    "duration": 4,
    "start_time": "2022-03-23T08:20:19.385Z"
   },
   {
    "duration": 30,
    "start_time": "2022-03-23T08:20:19.390Z"
   },
   {
    "duration": 13,
    "start_time": "2022-03-23T08:20:19.422Z"
   },
   {
    "duration": 8,
    "start_time": "2022-03-23T08:20:19.437Z"
   },
   {
    "duration": 562,
    "start_time": "2022-03-23T08:20:19.447Z"
   },
   {
    "duration": 114836,
    "start_time": "2022-03-23T08:20:20.010Z"
   },
   {
    "duration": 1364,
    "start_time": "2022-03-23T08:22:14.848Z"
   },
   {
    "duration": 98,
    "start_time": "2022-03-23T08:22:16.218Z"
   },
   {
    "duration": 20,
    "start_time": "2022-03-23T08:22:16.317Z"
   },
   {
    "duration": 14,
    "start_time": "2022-03-23T08:22:16.338Z"
   },
   {
    "duration": 12,
    "start_time": "2022-03-23T08:22:16.353Z"
   },
   {
    "duration": 3340,
    "start_time": "2022-03-23T08:22:16.367Z"
   },
   {
    "duration": 6,
    "start_time": "2022-03-23T08:22:19.709Z"
   },
   {
    "duration": 14,
    "start_time": "2022-03-23T08:22:19.717Z"
   },
   {
    "duration": 3307,
    "start_time": "2022-03-23T08:51:39.652Z"
   },
   {
    "duration": 3335,
    "start_time": "2022-03-23T08:52:05.000Z"
   },
   {
    "duration": 230,
    "start_time": "2022-03-23T08:52:51.493Z"
   },
   {
    "duration": 3402,
    "start_time": "2022-03-23T08:56:01.602Z"
   },
   {
    "duration": 3294,
    "start_time": "2022-03-23T08:56:30.041Z"
   },
   {
    "duration": 3536,
    "start_time": "2022-03-23T08:57:05.684Z"
   },
   {
    "duration": 2,
    "start_time": "2022-03-23T09:20:59.525Z"
   },
   {
    "duration": 16,
    "start_time": "2022-03-23T09:24:07.626Z"
   },
   {
    "duration": 420,
    "start_time": "2022-03-23T09:24:23.376Z"
   },
   {
    "duration": 1014,
    "start_time": "2022-03-23T09:24:23.799Z"
   },
   {
    "duration": 19,
    "start_time": "2022-03-23T09:24:24.814Z"
   },
   {
    "duration": 3,
    "start_time": "2022-03-23T09:24:24.834Z"
   },
   {
    "duration": 19,
    "start_time": "2022-03-23T09:24:24.839Z"
   },
   {
    "duration": 26,
    "start_time": "2022-03-23T09:24:24.860Z"
   },
   {
    "duration": 11,
    "start_time": "2022-03-23T09:24:24.888Z"
   },
   {
    "duration": 8,
    "start_time": "2022-03-23T09:24:24.908Z"
   },
   {
    "duration": 45,
    "start_time": "2022-03-23T09:24:24.917Z"
   },
   {
    "duration": 12,
    "start_time": "2022-03-23T09:24:24.964Z"
   },
   {
    "duration": 40,
    "start_time": "2022-03-23T09:24:24.978Z"
   },
   {
    "duration": 7,
    "start_time": "2022-03-23T09:24:25.019Z"
   },
   {
    "duration": 16,
    "start_time": "2022-03-23T09:24:25.028Z"
   },
   {
    "duration": 5,
    "start_time": "2022-03-23T09:24:25.048Z"
   },
   {
    "duration": 13,
    "start_time": "2022-03-23T09:24:25.054Z"
   },
   {
    "duration": 5,
    "start_time": "2022-03-23T09:24:25.069Z"
   },
   {
    "duration": 40,
    "start_time": "2022-03-23T09:24:25.076Z"
   },
   {
    "duration": 11,
    "start_time": "2022-03-23T09:24:25.118Z"
   },
   {
    "duration": 3270,
    "start_time": "2022-03-23T09:24:25.131Z"
   },
   {
    "duration": 5,
    "start_time": "2022-03-23T09:24:28.403Z"
   },
   {
    "duration": 18,
    "start_time": "2022-03-23T09:24:28.410Z"
   },
   {
    "duration": 1459,
    "start_time": "2022-03-23T09:24:28.430Z"
   },
   {
    "duration": 5,
    "start_time": "2022-03-23T09:24:29.890Z"
   },
   {
    "duration": 13,
    "start_time": "2022-03-23T09:24:29.896Z"
   },
   {
    "duration": 4,
    "start_time": "2022-03-23T09:24:29.910Z"
   },
   {
    "duration": 6,
    "start_time": "2022-03-23T09:24:29.915Z"
   },
   {
    "duration": 2,
    "start_time": "2022-03-23T09:24:29.922Z"
   },
   {
    "duration": 15,
    "start_time": "2022-03-23T09:24:29.926Z"
   },
   {
    "duration": 10,
    "start_time": "2022-03-23T09:24:29.943Z"
   },
   {
    "duration": 156,
    "start_time": "2022-03-23T09:24:29.954Z"
   },
   {
    "duration": 3,
    "start_time": "2022-03-23T09:24:30.111Z"
   },
   {
    "duration": 98,
    "start_time": "2022-03-23T09:24:30.116Z"
   },
   {
    "duration": 94,
    "start_time": "2022-03-23T09:24:30.215Z"
   },
   {
    "duration": 9,
    "start_time": "2022-03-23T09:24:30.311Z"
   },
   {
    "duration": 393,
    "start_time": "2022-03-23T09:24:30.321Z"
   },
   {
    "duration": 8,
    "start_time": "2022-03-23T09:24:30.716Z"
   },
   {
    "duration": 22,
    "start_time": "2022-03-23T09:24:30.726Z"
   },
   {
    "duration": 11,
    "start_time": "2022-03-23T09:24:30.750Z"
   },
   {
    "duration": 32,
    "start_time": "2022-03-23T09:24:30.763Z"
   },
   {
    "duration": 12,
    "start_time": "2022-03-23T09:24:30.796Z"
   },
   {
    "duration": 27,
    "start_time": "2022-03-23T09:24:30.812Z"
   },
   {
    "duration": 557,
    "start_time": "2022-03-23T09:24:30.840Z"
   },
   {
    "duration": 112286,
    "start_time": "2022-03-23T09:24:31.399Z"
   },
   {
    "duration": 1523,
    "start_time": "2022-03-23T09:26:23.686Z"
   },
   {
    "duration": 7,
    "start_time": "2022-03-23T09:26:25.211Z"
   },
   {
    "duration": 14,
    "start_time": "2022-03-23T09:26:25.219Z"
   },
   {
    "duration": 12,
    "start_time": "2022-03-23T09:26:25.234Z"
   },
   {
    "duration": 9,
    "start_time": "2022-03-23T09:26:25.247Z"
   },
   {
    "duration": 2923,
    "start_time": "2022-03-23T09:26:25.258Z"
   },
   {
    "duration": 5,
    "start_time": "2022-03-23T09:26:28.183Z"
   },
   {
    "duration": 19,
    "start_time": "2022-03-23T09:26:28.190Z"
   },
   {
    "duration": 391,
    "start_time": "2022-03-23T09:44:11.159Z"
   },
   {
    "duration": 1036,
    "start_time": "2022-03-23T09:44:11.552Z"
   },
   {
    "duration": 24,
    "start_time": "2022-03-23T09:44:12.590Z"
   },
   {
    "duration": 2,
    "start_time": "2022-03-23T09:44:12.616Z"
   },
   {
    "duration": 22,
    "start_time": "2022-03-23T09:44:12.620Z"
   },
   {
    "duration": 22,
    "start_time": "2022-03-23T09:44:12.644Z"
   },
   {
    "duration": 12,
    "start_time": "2022-03-23T09:44:12.668Z"
   },
   {
    "duration": 33,
    "start_time": "2022-03-23T09:44:12.682Z"
   },
   {
    "duration": 56,
    "start_time": "2022-03-23T09:44:12.717Z"
   },
   {
    "duration": 11,
    "start_time": "2022-03-23T09:44:12.774Z"
   },
   {
    "duration": 24,
    "start_time": "2022-03-23T09:44:12.787Z"
   },
   {
    "duration": 6,
    "start_time": "2022-03-23T09:44:12.813Z"
   },
   {
    "duration": 15,
    "start_time": "2022-03-23T09:44:12.821Z"
   },
   {
    "duration": 8,
    "start_time": "2022-03-23T09:44:12.840Z"
   },
   {
    "duration": 15,
    "start_time": "2022-03-23T09:44:12.850Z"
   },
   {
    "duration": 14,
    "start_time": "2022-03-23T09:44:12.866Z"
   },
   {
    "duration": 12,
    "start_time": "2022-03-23T09:44:12.909Z"
   },
   {
    "duration": 20,
    "start_time": "2022-03-23T09:44:12.923Z"
   },
   {
    "duration": 3372,
    "start_time": "2022-03-23T09:44:12.945Z"
   },
   {
    "duration": 6,
    "start_time": "2022-03-23T09:44:16.319Z"
   },
   {
    "duration": 22,
    "start_time": "2022-03-23T09:44:16.327Z"
   },
   {
    "duration": 1545,
    "start_time": "2022-03-23T09:44:16.351Z"
   },
   {
    "duration": 11,
    "start_time": "2022-03-23T09:44:17.898Z"
   },
   {
    "duration": 7,
    "start_time": "2022-03-23T09:44:17.910Z"
   },
   {
    "duration": 9,
    "start_time": "2022-03-23T09:44:17.919Z"
   },
   {
    "duration": 8,
    "start_time": "2022-03-23T09:44:17.929Z"
   },
   {
    "duration": 13,
    "start_time": "2022-03-23T09:44:17.938Z"
   },
   {
    "duration": 11,
    "start_time": "2022-03-23T09:44:17.953Z"
   },
   {
    "duration": 20,
    "start_time": "2022-03-23T09:44:17.966Z"
   },
   {
    "duration": 3,
    "start_time": "2022-03-23T09:44:17.988Z"
   },
   {
    "duration": 333,
    "start_time": "2022-03-23T09:44:17.992Z"
   },
   {
    "duration": 119,
    "start_time": "2022-03-23T09:44:18.328Z"
   },
   {
    "duration": 0,
    "start_time": "2022-03-23T09:44:18.449Z"
   },
   {
    "duration": 0,
    "start_time": "2022-03-23T09:44:18.450Z"
   },
   {
    "duration": 0,
    "start_time": "2022-03-23T09:44:18.452Z"
   },
   {
    "duration": 0,
    "start_time": "2022-03-23T09:44:18.454Z"
   },
   {
    "duration": 0,
    "start_time": "2022-03-23T09:44:18.455Z"
   },
   {
    "duration": 0,
    "start_time": "2022-03-23T09:44:18.456Z"
   },
   {
    "duration": 0,
    "start_time": "2022-03-23T09:44:18.458Z"
   },
   {
    "duration": 0,
    "start_time": "2022-03-23T09:44:18.460Z"
   },
   {
    "duration": 0,
    "start_time": "2022-03-23T09:44:18.461Z"
   },
   {
    "duration": 0,
    "start_time": "2022-03-23T09:44:18.462Z"
   },
   {
    "duration": 0,
    "start_time": "2022-03-23T09:44:18.464Z"
   },
   {
    "duration": 0,
    "start_time": "2022-03-23T09:44:18.465Z"
   },
   {
    "duration": 0,
    "start_time": "2022-03-23T09:44:18.466Z"
   },
   {
    "duration": 0,
    "start_time": "2022-03-23T09:44:18.467Z"
   },
   {
    "duration": 0,
    "start_time": "2022-03-23T09:44:18.468Z"
   },
   {
    "duration": 0,
    "start_time": "2022-03-23T09:44:18.470Z"
   },
   {
    "duration": 0,
    "start_time": "2022-03-23T09:44:18.471Z"
   },
   {
    "duration": 0,
    "start_time": "2022-03-23T09:44:18.472Z"
   },
   {
    "duration": 2,
    "start_time": "2022-03-23T09:46:01.349Z"
   },
   {
    "duration": 4,
    "start_time": "2022-03-23T09:46:03.641Z"
   },
   {
    "duration": 370,
    "start_time": "2022-03-23T09:46:06.944Z"
   },
   {
    "duration": 14,
    "start_time": "2022-03-23T09:46:09.082Z"
   },
   {
    "duration": 385,
    "start_time": "2022-03-23T09:51:59.268Z"
   },
   {
    "duration": 973,
    "start_time": "2022-03-23T09:51:59.655Z"
   },
   {
    "duration": 18,
    "start_time": "2022-03-23T09:52:00.630Z"
   },
   {
    "duration": 3,
    "start_time": "2022-03-23T09:52:00.650Z"
   },
   {
    "duration": 63,
    "start_time": "2022-03-23T09:52:00.655Z"
   },
   {
    "duration": 24,
    "start_time": "2022-03-23T09:52:00.720Z"
   },
   {
    "duration": 12,
    "start_time": "2022-03-23T09:52:00.746Z"
   },
   {
    "duration": 8,
    "start_time": "2022-03-23T09:52:00.759Z"
   },
   {
    "duration": 76,
    "start_time": "2022-03-23T09:52:00.768Z"
   },
   {
    "duration": 11,
    "start_time": "2022-03-23T09:52:00.846Z"
   },
   {
    "duration": 10,
    "start_time": "2022-03-23T09:52:00.859Z"
   },
   {
    "duration": 6,
    "start_time": "2022-03-23T09:52:00.871Z"
   },
   {
    "duration": 18,
    "start_time": "2022-03-23T09:52:00.878Z"
   },
   {
    "duration": 10,
    "start_time": "2022-03-23T09:52:00.908Z"
   },
   {
    "duration": 13,
    "start_time": "2022-03-23T09:52:00.920Z"
   },
   {
    "duration": 12,
    "start_time": "2022-03-23T09:52:00.935Z"
   },
   {
    "duration": 17,
    "start_time": "2022-03-23T09:52:00.949Z"
   },
   {
    "duration": 12,
    "start_time": "2022-03-23T09:52:00.968Z"
   },
   {
    "duration": 3387,
    "start_time": "2022-03-23T09:52:00.982Z"
   },
   {
    "duration": 6,
    "start_time": "2022-03-23T09:52:04.370Z"
   },
   {
    "duration": 20,
    "start_time": "2022-03-23T09:52:04.377Z"
   },
   {
    "duration": 1525,
    "start_time": "2022-03-23T09:52:04.398Z"
   },
   {
    "duration": 2,
    "start_time": "2022-03-23T09:52:05.925Z"
   },
   {
    "duration": 5,
    "start_time": "2022-03-23T09:52:05.929Z"
   },
   {
    "duration": 7,
    "start_time": "2022-03-23T09:52:05.936Z"
   },
   {
    "duration": 7,
    "start_time": "2022-03-23T09:52:05.945Z"
   },
   {
    "duration": 12,
    "start_time": "2022-03-23T09:52:05.953Z"
   },
   {
    "duration": 11,
    "start_time": "2022-03-23T09:52:05.966Z"
   },
   {
    "duration": 35,
    "start_time": "2022-03-23T09:52:05.978Z"
   },
   {
    "duration": 4,
    "start_time": "2022-03-23T09:52:06.015Z"
   },
   {
    "duration": 296,
    "start_time": "2022-03-23T09:52:06.021Z"
   },
   {
    "duration": 8,
    "start_time": "2022-03-23T09:52:06.409Z"
   },
   {
    "duration": 97,
    "start_time": "2022-03-23T09:52:06.512Z"
   },
   {
    "duration": 465,
    "start_time": "2022-03-23T09:52:06.612Z"
   },
   {
    "duration": 7,
    "start_time": "2022-03-23T09:52:07.079Z"
   },
   {
    "duration": 7,
    "start_time": "2022-03-23T09:52:07.088Z"
   },
   {
    "duration": 3,
    "start_time": "2022-03-23T09:52:07.109Z"
   },
   {
    "duration": 16,
    "start_time": "2022-03-23T09:52:07.114Z"
   },
   {
    "duration": 11,
    "start_time": "2022-03-23T09:52:07.132Z"
   },
   {
    "duration": 6,
    "start_time": "2022-03-23T09:52:07.145Z"
   },
   {
    "duration": 534,
    "start_time": "2022-03-23T09:52:07.155Z"
   },
   {
    "duration": 115659,
    "start_time": "2022-03-23T09:52:07.691Z"
   },
   {
    "duration": 1461,
    "start_time": "2022-03-23T09:54:03.351Z"
   },
   {
    "duration": 98,
    "start_time": "2022-03-23T09:54:04.815Z"
   },
   {
    "duration": 31,
    "start_time": "2022-03-23T09:54:04.915Z"
   },
   {
    "duration": 24,
    "start_time": "2022-03-23T09:54:04.948Z"
   },
   {
    "duration": 25,
    "start_time": "2022-03-23T09:54:04.974Z"
   },
   {
    "duration": 3116,
    "start_time": "2022-03-23T09:54:05.001Z"
   },
   {
    "duration": 5,
    "start_time": "2022-03-23T09:54:08.118Z"
   },
   {
    "duration": 17,
    "start_time": "2022-03-23T09:54:08.125Z"
   },
   {
    "duration": 389,
    "start_time": "2022-03-23T09:57:31.747Z"
   },
   {
    "duration": 943,
    "start_time": "2022-03-23T09:57:32.138Z"
   },
   {
    "duration": 18,
    "start_time": "2022-03-23T09:57:33.082Z"
   },
   {
    "duration": 5,
    "start_time": "2022-03-23T09:57:33.103Z"
   },
   {
    "duration": 16,
    "start_time": "2022-03-23T09:57:33.110Z"
   },
   {
    "duration": 21,
    "start_time": "2022-03-23T09:57:33.128Z"
   },
   {
    "duration": 12,
    "start_time": "2022-03-23T09:57:33.150Z"
   },
   {
    "duration": 7,
    "start_time": "2022-03-23T09:57:33.163Z"
   },
   {
    "duration": 67,
    "start_time": "2022-03-23T09:57:33.172Z"
   },
   {
    "duration": 10,
    "start_time": "2022-03-23T09:57:33.242Z"
   },
   {
    "duration": 8,
    "start_time": "2022-03-23T09:57:33.254Z"
   },
   {
    "duration": 4,
    "start_time": "2022-03-23T09:57:33.264Z"
   },
   {
    "duration": 17,
    "start_time": "2022-03-23T09:57:33.270Z"
   },
   {
    "duration": 24,
    "start_time": "2022-03-23T09:57:33.288Z"
   },
   {
    "duration": 13,
    "start_time": "2022-03-23T09:57:33.313Z"
   },
   {
    "duration": 6,
    "start_time": "2022-03-23T09:57:33.327Z"
   },
   {
    "duration": 11,
    "start_time": "2022-03-23T09:57:33.334Z"
   },
   {
    "duration": 11,
    "start_time": "2022-03-23T09:57:33.346Z"
   },
   {
    "duration": 3334,
    "start_time": "2022-03-23T09:57:33.359Z"
   },
   {
    "duration": 6,
    "start_time": "2022-03-23T09:57:36.694Z"
   },
   {
    "duration": 21,
    "start_time": "2022-03-23T09:57:36.701Z"
   },
   {
    "duration": 1509,
    "start_time": "2022-03-23T09:57:36.723Z"
   },
   {
    "duration": 4,
    "start_time": "2022-03-23T09:57:38.236Z"
   },
   {
    "duration": 5,
    "start_time": "2022-03-23T09:57:38.242Z"
   },
   {
    "duration": 6,
    "start_time": "2022-03-23T09:57:38.248Z"
   },
   {
    "duration": 5,
    "start_time": "2022-03-23T09:57:38.256Z"
   },
   {
    "duration": 11,
    "start_time": "2022-03-23T09:57:38.262Z"
   },
   {
    "duration": 35,
    "start_time": "2022-03-23T09:57:38.277Z"
   },
   {
    "duration": 11,
    "start_time": "2022-03-23T09:57:38.314Z"
   },
   {
    "duration": 2,
    "start_time": "2022-03-23T09:57:38.327Z"
   },
   {
    "duration": 485,
    "start_time": "2022-03-23T09:57:38.330Z"
   },
   {
    "duration": 94,
    "start_time": "2022-03-23T09:57:38.817Z"
   },
   {
    "duration": 96,
    "start_time": "2022-03-23T09:57:38.915Z"
   },
   {
    "duration": 526,
    "start_time": "2022-03-23T09:57:39.014Z"
   },
   {
    "duration": 7,
    "start_time": "2022-03-23T09:57:39.542Z"
   },
   {
    "duration": 6,
    "start_time": "2022-03-23T09:57:39.551Z"
   },
   {
    "duration": 2,
    "start_time": "2022-03-23T09:57:39.559Z"
   },
   {
    "duration": 15,
    "start_time": "2022-03-23T09:57:39.563Z"
   },
   {
    "duration": 36,
    "start_time": "2022-03-23T09:57:39.579Z"
   },
   {
    "duration": 8,
    "start_time": "2022-03-23T09:57:39.616Z"
   },
   {
    "duration": 524,
    "start_time": "2022-03-23T09:57:39.625Z"
   },
   {
    "duration": 114408,
    "start_time": "2022-03-23T09:57:40.151Z"
   },
   {
    "duration": 1754,
    "start_time": "2022-03-23T09:59:34.560Z"
   },
   {
    "duration": 7,
    "start_time": "2022-03-23T09:59:36.316Z"
   },
   {
    "duration": 15,
    "start_time": "2022-03-23T09:59:36.325Z"
   },
   {
    "duration": 11,
    "start_time": "2022-03-23T09:59:36.342Z"
   },
   {
    "duration": 11,
    "start_time": "2022-03-23T09:59:36.354Z"
   },
   {
    "duration": 2900,
    "start_time": "2022-03-23T09:59:36.367Z"
   },
   {
    "duration": 6,
    "start_time": "2022-03-23T09:59:39.269Z"
   },
   {
    "duration": 11,
    "start_time": "2022-03-23T09:59:39.276Z"
   },
   {
    "duration": 439,
    "start_time": "2022-03-23T10:32:49.584Z"
   },
   {
    "duration": 1014,
    "start_time": "2022-03-23T10:32:50.025Z"
   },
   {
    "duration": 18,
    "start_time": "2022-03-23T10:32:51.041Z"
   },
   {
    "duration": 3,
    "start_time": "2022-03-23T10:32:51.061Z"
   },
   {
    "duration": 20,
    "start_time": "2022-03-23T10:32:51.065Z"
   },
   {
    "duration": 27,
    "start_time": "2022-03-23T10:32:51.086Z"
   },
   {
    "duration": 13,
    "start_time": "2022-03-23T10:32:51.114Z"
   },
   {
    "duration": 20,
    "start_time": "2022-03-23T10:32:51.128Z"
   },
   {
    "duration": 43,
    "start_time": "2022-03-23T10:32:51.150Z"
   },
   {
    "duration": 19,
    "start_time": "2022-03-23T10:32:51.196Z"
   },
   {
    "duration": 9,
    "start_time": "2022-03-23T10:32:51.217Z"
   },
   {
    "duration": 5,
    "start_time": "2022-03-23T10:32:51.227Z"
   },
   {
    "duration": 14,
    "start_time": "2022-03-23T10:32:51.234Z"
   },
   {
    "duration": 8,
    "start_time": "2022-03-23T10:32:51.249Z"
   },
   {
    "duration": 13,
    "start_time": "2022-03-23T10:32:51.259Z"
   },
   {
    "duration": 41,
    "start_time": "2022-03-23T10:32:51.274Z"
   },
   {
    "duration": 16,
    "start_time": "2022-03-23T10:32:51.316Z"
   },
   {
    "duration": 12,
    "start_time": "2022-03-23T10:32:51.333Z"
   },
   {
    "duration": 3339,
    "start_time": "2022-03-23T10:32:51.346Z"
   },
   {
    "duration": 6,
    "start_time": "2022-03-23T10:32:54.687Z"
   },
   {
    "duration": 20,
    "start_time": "2022-03-23T10:32:54.695Z"
   },
   {
    "duration": 1480,
    "start_time": "2022-03-23T10:32:54.716Z"
   },
   {
    "duration": 12,
    "start_time": "2022-03-23T10:32:56.198Z"
   },
   {
    "duration": 6,
    "start_time": "2022-03-23T10:32:56.211Z"
   },
   {
    "duration": 5,
    "start_time": "2022-03-23T10:32:56.218Z"
   },
   {
    "duration": 5,
    "start_time": "2022-03-23T10:32:56.225Z"
   },
   {
    "duration": 10,
    "start_time": "2022-03-23T10:32:56.232Z"
   },
   {
    "duration": 8,
    "start_time": "2022-03-23T10:32:56.245Z"
   },
   {
    "duration": 17,
    "start_time": "2022-03-23T10:32:56.255Z"
   },
   {
    "duration": 3,
    "start_time": "2022-03-23T10:32:56.273Z"
   },
   {
    "duration": 240,
    "start_time": "2022-03-23T10:32:56.277Z"
   },
   {
    "duration": 5,
    "start_time": "2022-03-23T10:32:56.609Z"
   },
   {
    "duration": 100,
    "start_time": "2022-03-23T10:32:56.616Z"
   },
   {
    "duration": 357,
    "start_time": "2022-03-23T10:32:56.718Z"
   },
   {
    "duration": 7,
    "start_time": "2022-03-23T10:32:57.077Z"
   },
   {
    "duration": 8,
    "start_time": "2022-03-23T10:32:57.085Z"
   },
   {
    "duration": 16,
    "start_time": "2022-03-23T10:32:57.094Z"
   },
   {
    "duration": 15,
    "start_time": "2022-03-23T10:32:57.111Z"
   },
   {
    "duration": 11,
    "start_time": "2022-03-23T10:32:57.128Z"
   },
   {
    "duration": 7,
    "start_time": "2022-03-23T10:32:57.141Z"
   },
   {
    "duration": 533,
    "start_time": "2022-03-23T10:32:57.150Z"
   },
   {
    "duration": 111110,
    "start_time": "2022-03-23T10:32:57.685Z"
   },
   {
    "duration": 1513,
    "start_time": "2022-03-23T10:34:48.796Z"
   },
   {
    "duration": 97,
    "start_time": "2022-03-23T10:34:50.312Z"
   },
   {
    "duration": 16,
    "start_time": "2022-03-23T10:34:50.410Z"
   },
   {
    "duration": 10,
    "start_time": "2022-03-23T10:34:50.428Z"
   },
   {
    "duration": 9,
    "start_time": "2022-03-23T10:34:50.440Z"
   },
   {
    "duration": 2914,
    "start_time": "2022-03-23T10:34:50.451Z"
   },
   {
    "duration": 5,
    "start_time": "2022-03-23T10:34:53.367Z"
   },
   {
    "duration": 12,
    "start_time": "2022-03-23T10:34:53.374Z"
   },
   {
    "duration": 388,
    "start_time": "2022-03-23T10:42:40.345Z"
   },
   {
    "duration": 1022,
    "start_time": "2022-03-23T10:42:40.735Z"
   },
   {
    "duration": 19,
    "start_time": "2022-03-23T10:42:41.759Z"
   },
   {
    "duration": 2,
    "start_time": "2022-03-23T10:42:41.780Z"
   },
   {
    "duration": 23,
    "start_time": "2022-03-23T10:42:41.784Z"
   },
   {
    "duration": 21,
    "start_time": "2022-03-23T10:42:41.809Z"
   },
   {
    "duration": 12,
    "start_time": "2022-03-23T10:42:41.831Z"
   },
   {
    "duration": 9,
    "start_time": "2022-03-23T10:42:41.844Z"
   },
   {
    "duration": 69,
    "start_time": "2022-03-23T10:42:41.855Z"
   },
   {
    "duration": 12,
    "start_time": "2022-03-23T10:42:41.926Z"
   },
   {
    "duration": 10,
    "start_time": "2022-03-23T10:42:41.940Z"
   },
   {
    "duration": 6,
    "start_time": "2022-03-23T10:42:41.952Z"
   },
   {
    "duration": 14,
    "start_time": "2022-03-23T10:42:41.960Z"
   },
   {
    "duration": 6,
    "start_time": "2022-03-23T10:42:42.008Z"
   },
   {
    "duration": 13,
    "start_time": "2022-03-23T10:42:42.016Z"
   },
   {
    "duration": 7,
    "start_time": "2022-03-23T10:42:42.031Z"
   },
   {
    "duration": 12,
    "start_time": "2022-03-23T10:42:42.039Z"
   },
   {
    "duration": 12,
    "start_time": "2022-03-23T10:42:42.053Z"
   },
   {
    "duration": 3486,
    "start_time": "2022-03-23T10:42:42.067Z"
   },
   {
    "duration": 5,
    "start_time": "2022-03-23T10:42:45.555Z"
   },
   {
    "duration": 30,
    "start_time": "2022-03-23T10:42:45.562Z"
   },
   {
    "duration": 1581,
    "start_time": "2022-03-23T10:42:45.594Z"
   },
   {
    "duration": 4,
    "start_time": "2022-03-23T10:42:47.177Z"
   },
   {
    "duration": 6,
    "start_time": "2022-03-23T10:42:47.183Z"
   },
   {
    "duration": 18,
    "start_time": "2022-03-23T10:42:47.191Z"
   },
   {
    "duration": 13,
    "start_time": "2022-03-23T10:42:47.210Z"
   },
   {
    "duration": 11,
    "start_time": "2022-03-23T10:42:47.225Z"
   },
   {
    "duration": 12,
    "start_time": "2022-03-23T10:42:47.240Z"
   },
   {
    "duration": 3,
    "start_time": "2022-03-23T10:42:47.253Z"
   },
   {
    "duration": 261,
    "start_time": "2022-03-23T10:42:47.257Z"
   },
   {
    "duration": 95,
    "start_time": "2022-03-23T10:42:47.520Z"
   },
   {
    "duration": 4,
    "start_time": "2022-03-23T10:42:47.710Z"
   },
   {
    "duration": 534,
    "start_time": "2022-03-23T10:42:47.717Z"
   },
   {
    "duration": 8,
    "start_time": "2022-03-23T10:42:48.253Z"
   },
   {
    "duration": 8,
    "start_time": "2022-03-23T10:42:48.263Z"
   },
   {
    "duration": 4,
    "start_time": "2022-03-23T10:42:48.273Z"
   },
   {
    "duration": 42,
    "start_time": "2022-03-23T10:42:48.279Z"
   },
   {
    "duration": 14,
    "start_time": "2022-03-23T10:42:48.323Z"
   },
   {
    "duration": 7,
    "start_time": "2022-03-23T10:42:48.339Z"
   },
   {
    "duration": 569,
    "start_time": "2022-03-23T10:42:48.348Z"
   },
   {
    "duration": 116143,
    "start_time": "2022-03-23T10:42:48.920Z"
   },
   {
    "duration": 1448,
    "start_time": "2022-03-23T10:44:45.065Z"
   },
   {
    "duration": 10,
    "start_time": "2022-03-23T10:44:46.515Z"
   },
   {
    "duration": 87,
    "start_time": "2022-03-23T10:44:46.526Z"
   },
   {
    "duration": 13,
    "start_time": "2022-03-23T10:44:46.614Z"
   },
   {
    "duration": 11,
    "start_time": "2022-03-23T10:44:46.629Z"
   },
   {
    "duration": 3032,
    "start_time": "2022-03-23T10:44:46.641Z"
   },
   {
    "duration": 5,
    "start_time": "2022-03-23T10:44:49.675Z"
   },
   {
    "duration": 27,
    "start_time": "2022-03-23T10:44:49.682Z"
   },
   {
    "duration": 495,
    "start_time": "2022-03-28T15:59:41.083Z"
   },
   {
    "duration": 1205,
    "start_time": "2022-03-28T15:59:41.581Z"
   },
   {
    "duration": 20,
    "start_time": "2022-03-28T15:59:42.788Z"
   },
   {
    "duration": 3,
    "start_time": "2022-03-28T15:59:42.810Z"
   },
   {
    "duration": 26,
    "start_time": "2022-03-28T15:59:42.815Z"
   },
   {
    "duration": 23,
    "start_time": "2022-03-28T15:59:42.842Z"
   },
   {
    "duration": 12,
    "start_time": "2022-03-28T15:59:42.866Z"
   },
   {
    "duration": 11,
    "start_time": "2022-03-28T15:59:42.879Z"
   },
   {
    "duration": 70,
    "start_time": "2022-03-28T15:59:42.891Z"
   },
   {
    "duration": 10,
    "start_time": "2022-03-28T15:59:42.964Z"
   },
   {
    "duration": 11,
    "start_time": "2022-03-28T15:59:42.975Z"
   },
   {
    "duration": 6,
    "start_time": "2022-03-28T15:59:42.987Z"
   },
   {
    "duration": 26,
    "start_time": "2022-03-28T15:59:42.995Z"
   },
   {
    "duration": 8,
    "start_time": "2022-03-28T15:59:43.033Z"
   },
   {
    "duration": 13,
    "start_time": "2022-03-28T15:59:43.043Z"
   },
   {
    "duration": 11,
    "start_time": "2022-03-28T15:59:43.058Z"
   },
   {
    "duration": 12,
    "start_time": "2022-03-28T15:59:43.070Z"
   },
   {
    "duration": 12,
    "start_time": "2022-03-28T15:59:43.084Z"
   },
   {
    "duration": 3048,
    "start_time": "2022-03-28T15:59:43.098Z"
   },
   {
    "duration": 6,
    "start_time": "2022-03-28T15:59:46.148Z"
   },
   {
    "duration": 19,
    "start_time": "2022-03-28T15:59:46.156Z"
   },
   {
    "duration": 1359,
    "start_time": "2022-03-28T15:59:46.177Z"
   },
   {
    "duration": 4,
    "start_time": "2022-03-28T15:59:47.538Z"
   },
   {
    "duration": 7,
    "start_time": "2022-03-28T15:59:47.544Z"
   },
   {
    "duration": 6,
    "start_time": "2022-03-28T15:59:47.552Z"
   },
   {
    "duration": 14,
    "start_time": "2022-03-28T15:59:47.559Z"
   },
   {
    "duration": 10,
    "start_time": "2022-03-28T15:59:47.576Z"
   },
   {
    "duration": 47,
    "start_time": "2022-03-28T15:59:47.590Z"
   },
   {
    "duration": 4,
    "start_time": "2022-03-28T15:59:47.638Z"
   },
   {
    "duration": 289,
    "start_time": "2022-03-28T15:59:47.643Z"
   },
   {
    "duration": 7,
    "start_time": "2022-03-28T15:59:47.935Z"
   },
   {
    "duration": 103,
    "start_time": "2022-03-28T15:59:47.944Z"
   },
   {
    "duration": 4,
    "start_time": "2022-03-28T15:59:48.134Z"
   },
   {
    "duration": 564,
    "start_time": "2022-03-28T15:59:48.140Z"
   },
   {
    "duration": 8,
    "start_time": "2022-03-28T15:59:48.706Z"
   },
   {
    "duration": 19,
    "start_time": "2022-03-28T15:59:48.716Z"
   },
   {
    "duration": 3,
    "start_time": "2022-03-28T15:59:48.737Z"
   },
   {
    "duration": 13,
    "start_time": "2022-03-28T15:59:48.741Z"
   },
   {
    "duration": 12,
    "start_time": "2022-03-28T15:59:48.756Z"
   },
   {
    "duration": 8,
    "start_time": "2022-03-28T15:59:48.770Z"
   },
   {
    "duration": 921,
    "start_time": "2022-03-28T15:59:48.780Z"
   },
   {
    "duration": 116965,
    "start_time": "2022-03-28T15:59:49.704Z"
   },
   {
    "duration": 1262,
    "start_time": "2022-03-28T16:01:46.671Z"
   },
   {
    "duration": 10,
    "start_time": "2022-03-28T16:01:47.935Z"
   },
   {
    "duration": 93,
    "start_time": "2022-03-28T16:01:47.947Z"
   },
   {
    "duration": 13,
    "start_time": "2022-03-28T16:01:48.042Z"
   },
   {
    "duration": 9,
    "start_time": "2022-03-28T16:01:48.057Z"
   },
   {
    "duration": 2662,
    "start_time": "2022-03-28T16:01:48.068Z"
   },
   {
    "duration": 5,
    "start_time": "2022-03-28T16:01:50.733Z"
   },
   {
    "duration": 15,
    "start_time": "2022-03-28T16:01:50.740Z"
   },
   {
    "duration": 6,
    "start_time": "2022-03-28T16:01:50.784Z"
   },
   {
    "duration": 120,
    "start_time": "2022-03-28T16:03:08.058Z"
   },
   {
    "duration": 4,
    "start_time": "2022-03-28T16:03:26.125Z"
   }
  ],
  "kernelspec": {
   "display_name": "Python 3",
   "language": "python",
   "name": "python3"
  },
  "language_info": {
   "codemirror_mode": {
    "name": "ipython",
    "version": 3
   },
   "file_extension": ".py",
   "mimetype": "text/x-python",
   "name": "python",
   "nbconvert_exporter": "python",
   "pygments_lexer": "ipython3",
   "version": "3.8.8"
  },
  "toc": {
   "base_numbering": 1,
   "nav_menu": {},
   "number_sections": true,
   "sideBar": true,
   "skip_h1_title": true,
   "title_cell": "Table of Contents",
   "title_sidebar": "Contents",
   "toc_cell": false,
   "toc_position": {},
   "toc_section_display": true,
   "toc_window_display": true
  }
 },
 "nbformat": 4,
 "nbformat_minor": 2
}
